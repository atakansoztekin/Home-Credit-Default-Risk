{
 "cells": [
  {
   "cell_type": "code",
   "execution_count": 1,
   "metadata": {},
   "outputs": [
    {
     "data": {
      "text/html": [
       "<style>.container { width:80% !important; }</style>"
      ],
      "text/plain": [
       "<IPython.core.display.HTML object>"
      ]
     },
     "metadata": {},
     "output_type": "display_data"
    }
   ],
   "source": [
    "import pandas as pd\n",
    "import numpy as np\n",
    "import warnings\n",
    "import math\n",
    "\n",
    "from IPython.core.display import display, HTML\n",
    "display(HTML(\"<style>.container { width:80% !important; }</style>\"))\n",
    "warnings.filterwarnings('ignore')"
   ]
  },
  {
   "cell_type": "markdown",
   "metadata": {},
   "source": [
    "We try to find client will pay their repayment if we give them credit in our bank. We try to solve this problem according to client bureau, installment payments and current payments history. We try to analyze clients and their behaviours about their debts. By using that we can determine that clients are reliable or not. By using this system, Bank can choose their client more efficient way and they do not need to suffer days past due payments. In this notebook following index is followed;\n",
    "\n",
    "**INDEX : **\n",
    "    \n",
    "    1) Extra Data Sources Analysis and Scoring\n",
    "        1.1) Installment Payments\n",
    "        1.2) Bureau\n",
    "    2) Exploratory Data Analysis\n",
    "        2.1) Missing Values\n",
    "        2.2) Anomalies in Features\n",
    "            2.2.1) DAYS_BIRTH\n",
    "            2.2.2) DAYS_EMPLOYED\n",
    "            2.2.3) DAYS_REGISTRATION\n",
    "        2.3) Relationship with Target Variables\n",
    "            2.3.1) EXT_SOURCE_2\n",
    "            2.3.2) DAYS_EMPLOYED\n",
    "    3) Feature Engineering\n",
    "    4) Feature Importance and Target Variable Analysis\n",
    "        4.1) RandomForestClassifier for Feature Importance\n",
    "        4.2) Logistic Regression\n",
    "            4.2.1) DAYS_ID_PUBLISH\n",
    "            4.2.2) DAYS_LAST_PHONE_CHANGE\n",
    "    5) Models Implementation and Feature Elimination\n",
    "        5.1) Principal Component Analysis without Boostrap Sampling\n",
    "        5.2) Principal Component Analysis with Boostrap Resampling\n",
    "    6) Conclusion\n",
    "            "
   ]
  },
  {
   "cell_type": "markdown",
   "metadata": {},
   "source": [
    "# 1) Extra Data Sources Analysis and Scoring\n",
    "\n",
    "In order to analyze credit risk of our clients, we have to analyze their behaviours. In this notebook we analyze their installment payments and bureau data sources. We analyze these data sources and merge them with main table. All of client history is important for us but a lot of features misdirect us for knowledge of client behaviour. Then we have to decrease features by analyzing extra data sources. We try to decrease features in data sources by scoring clients.\n",
    "\n",
    "## 1.1) Installment Payments\n",
    "\n",
    "In order to score their installment payment behaviour that we need to segment our client and then we score them. We can determine this by using DAYS_ columns and AMT_ columns. First we need to look client payment status. We look most reliable client in this records. For example one client pay his all debt and pay it 2700 day before to due date then this client take 100 from installment payments. Then score decrease according to their performance.\n",
    "\n",
    "We score our clients according to this formula:\n",
    "$$Score =100 - (\\frac{(\\frac {Days past Due Date}{MaximumPast} + \\frac {Remaining Debt}{Maximum Remaining Debt})}{2} * 100) $$"
   ]
  },
  {
   "cell_type": "code",
   "execution_count": 2,
   "metadata": {},
   "outputs": [],
   "source": [
    "installment_payments = pd.read_csv(\"/home/atakansoztekin/Desktop/ML Projects/Kaggle/Home Credit Default Risk/data/installments_payments.csv\")\n",
    "installment_payments.dropna(inplace=True)\n",
    "\n",
    "installment_payments_new = installment_payments.groupby(['SK_ID_CURR','SK_ID_PREV','NUM_INSTALMENT_NUMBER'],as_index=False).mean()\n",
    "installment_payments_new['AMT_INSTALMENT'] = np.round(installment_payments.groupby(['SK_ID_CURR','SK_ID_PREV','NUM_INSTALMENT_NUMBER'],as_index=False).sum()['AMT_INSTALMENT'],decimals=3)\n",
    "\n",
    "l = installment_payments_new[installment_payments_new.AMT_PAYMENT>installment_payments_new.AMT_INSTALMENT].index\n",
    "installment_payments_new.drop(index=l,inplace=True)\n",
    "\n",
    "installment_payments_new['payment'] = installment_payments_new.AMT_INSTALMENT-installment_payments_new.AMT_PAYMENT\n",
    "installment_payments_new['days'] = installment_payments_new.iloc[:,4]-installment_payments_new.iloc[:,5]\n",
    "early_max = np.min(installment_payments_new.DAYS_INSTALMENT-installment_payments_new.DAYS_ENTRY_PAYMENT)\n",
    "installment_payments_new.days = installment_payments_new.days - early_max\n",
    "\n",
    "installment_payments_new['score'] = 100 - (((installment_payments_new.days/np.max(installment_payments_new.days)) + (installment_payments_new.payment/np.max(installment_payments_new.payment)))/2*100)\n",
    "\n",
    "score_last_installment = installment_payments_new.groupby(['SK_ID_CURR'],as_index=False)['score'].mean()"
   ]
  },
  {
   "cell_type": "markdown",
   "metadata": {},
   "source": [
    "## 1.2) Bureau\n",
    "\n",
    "In order to score their bureau payment behaviour, we need to look for their current debt, days overdue and account is active or closed. Our score metric will be;\n",
    "$$IF(CREDITDAYOVERDUE != 0) \\quad score = 100-(\\frac{(\\frac {CREDITDAYOVERDUE}{MAXCREDITDAYOVERDUE} + \\frac {AMTCREDITSUMOVERDUE}{MAXAMTCREDITSUMOVERDUE})}{2}*100) $$\n",
    "ELSE\n",
    "$$IF(CREDITDAYOVERDUE == 0) \\quad AND \\quad IF(CREDITACTIVE == CLOSED) \\quad score = (\\frac {\\frac {AMTCREDITSUM}{DAYSCREDITENDDATE-DAYSCREDIT}}{MAX(\\frac {AMTCREDITSUM}{DAYSCREDITENDDATE-DAYSCREDIT})})*100$$\n",
    "ELSE\n",
    "$$IF(CREDITDAYOVERDUE == 0) \\quad AND \\quad IF(CREDITACTIVE == ACTIVE) \\quad score = (\\frac {\\frac {AMTCREDITSUM-AMTCREDITSUMDEBT}{DAYSCREDITENDDATE-DAYSCREDIT}}{MAX(\\frac {AMTCREDITSUM-AMTCREDITSUMDEBT}{DAYSCREDITENDDATE-DAYSCREDIT})})*100$$\n",
    "<br>\n",
    "After looking clients installment payments and bureau history, we can use these score variables in our main table. Now we can start analysis of data towards to target variable.\n",
    "<br>\n",
    "<br>"
   ]
  },
  {
   "cell_type": "code",
   "execution_count": 3,
   "metadata": {},
   "outputs": [],
   "source": [
    "bureau = pd.read_csv(\"/home/atakansoztekin/Desktop/ML Projects/Kaggle/Home Credit Default Risk/data/bureau.csv\")\n",
    "\n",
    "bureau_new = bureau.groupby(['SK_ID_CURR','SK_ID_BUREAU','CREDIT_ACTIVE'],as_index=False).mean()\n",
    "bureau_new['score'] = np.nan\n",
    "\n",
    "l1 = bureau_new[bureau_new.CREDIT_DAY_OVERDUE!=0].index\n",
    "bureau_new.loc[l1,'score'] =100-(((bureau_new.loc[l1,'CREDIT_DAY_OVERDUE']/np.max(bureau_new.loc[l1,'CREDIT_DAY_OVERDUE']))+(bureau_new.loc[l1,'AMT_CREDIT_SUM_OVERDUE']/np.max(bureau_new.loc[l1,'AMT_CREDIT_SUM_OVERDUE'])))/2*100) \n",
    "\n",
    "l2 = bureau_new[(bureau_new.CREDIT_DAY_OVERDUE==0)&(bureau_new.CREDIT_ACTIVE=='Closed')].index\n",
    "divisionl2 = bureau_new.loc[l2,'AMT_CREDIT_SUM']/(bureau_new.loc[l2,'DAYS_CREDIT_ENDDATE']-bureau_new.loc[l2,'DAYS_CREDIT'])\n",
    "divisionl2.replace([np.inf, -np.inf], np.nan,inplace=True)\n",
    "bureau_new.loc[l2,'score'] = (divisionl2 / np.max(divisionl2))*100\n",
    "\n",
    "\n",
    "l3 = bureau_new[(bureau_new.CREDIT_DAY_OVERDUE==0)&(bureau_new.CREDIT_ACTIVE=='Active')].index\n",
    "divisionl3 = (bureau_new.loc[l3,'AMT_CREDIT_SUM']-bureau_new.loc[l3,'AMT_CREDIT_SUM_DEBT'])/(bureau_new.loc[l3,'DAYS_CREDIT_ENDDATE']-bureau_new.loc[l3,'DAYS_CREDIT'])\n",
    "divisionl3.replace([np.inf, -np.inf], np.nan,inplace=True)\n",
    "bureau_new.loc[l3,'score'] = (divisionl3 / np.max(divisionl3))*100\n",
    "\n",
    "score_last_bureau = bureau_new.groupby(['SK_ID_CURR'],as_index=False)['score'].mean()\n",
    "score_last_bureau.dropna(subset=['score'],inplace=True)"
   ]
  },
  {
   "cell_type": "markdown",
   "metadata": {},
   "source": [
    "# 2) Exploratory Data Analysis"
   ]
  },
  {
   "cell_type": "code",
   "execution_count": 4,
   "metadata": {},
   "outputs": [],
   "source": [
    "import matplotlib.pyplot as plt\n",
    "import seaborn as sns\n",
    "\n",
    "application_train = pd.read_csv(\"/home/atakansoztekin/Desktop/ML Projects/Kaggle/Home Credit Default Risk/data/application_train.csv\")\n",
    "application_test = pd.read_csv(\"/home/atakansoztekin/Desktop/ML Projects/Kaggle/Home Credit Default Risk/data/application_test.csv\")\n",
    "target_variable = application_train.TARGET\n",
    "application_train.drop('TARGET',axis=1,inplace=True)\n",
    "\n",
    "#Bureau and installment score matching\n",
    "application_train['bureau_score']=np.nan\n",
    "application_train['installment_score']=np.nan\n",
    "\n",
    "l = list(score_last_bureau.SK_ID_CURR)\n",
    "l_last = list(application_train[application_train.SK_ID_CURR.isin(l)]['SK_ID_CURR'])\n",
    "application_train.loc[application_train.SK_ID_CURR.isin(l_last),'bureau_score']=score_last_bureau.loc[score_last_bureau.SK_ID_CURR.isin(l_last),'score'].values\n",
    "\n",
    "l2 = list(score_last_installment.SK_ID_CURR)\n",
    "l2_last = list(application_train[application_train.SK_ID_CURR.isin(l2)]['SK_ID_CURR'])\n",
    "application_train.loc[application_train.SK_ID_CURR.isin(l2_last),'installment_score']=score_last_installment.loc[score_last_installment.SK_ID_CURR.isin(l2_last),'score'].values\n",
    "\n",
    "application_test['bureau_score']=np.nan\n",
    "application_test['installment_score']=np.nan\n",
    "\n",
    "l = list(score_last_bureau.SK_ID_CURR)\n",
    "l_last = list(application_test[application_test.SK_ID_CURR.isin(l)]['SK_ID_CURR'])\n",
    "application_test.loc[application_test.SK_ID_CURR.isin(l_last),'bureau_score']=score_last_bureau.loc[score_last_bureau.SK_ID_CURR.isin(l_last),'score'].values\n",
    "\n",
    "l2 = list(score_last_installment.SK_ID_CURR)\n",
    "l2_last = list(application_test[application_test.SK_ID_CURR.isin(l2)]['SK_ID_CURR'])\n",
    "application_test.loc[application_test.SK_ID_CURR.isin(l2_last),'installment_score']=score_last_installment.loc[score_last_installment.SK_ID_CURR.isin(l2_last),'score'].values"
   ]
  },
  {
   "cell_type": "markdown",
   "metadata": {},
   "source": [
    "## 2.1) Missing Values\n",
    "\n",
    "First of all we needed to look missing values in data. Without that we cannot determine which variable is more effect on target variable. We start with calculate missing values, if variable have %20 NaN then we can drop this variable. Because if we try to impute these variables, we change characteristics of data and this can mislead us. If variable have less than %20 Nan values, we look correlation matrix for this variable and try to fill these values according to that. But before we fill missing values we need to encode categorical variables(We use Will Koehrsen notebook codes). Then we look for missing values and use following formula for handling missing values;\n",
    "\n",
    "$IF(NANPERCENTAGE > 0.2)$ Then Drop Columns\n",
    "\n",
    "$IF(NANPERCENTAGE <= 0.2 \\& NANPERCENTAGE > 0)$ Then Fill missing values with median of columns\n",
    "\n",
    "We do last method because small amount of Nan values do not change characteristics of predictive variable."
   ]
  },
  {
   "cell_type": "code",
   "execution_count": 5,
   "metadata": {
    "scrolled": true
   },
   "outputs": [],
   "source": [
    "# %20 or more missing values handling\n",
    "missing_values = pd.DataFrame(np.ones(shape=(123,2)),columns=['Columns','Total NaNs'])\n",
    "missing_values['Columns'] = application_train.isnull().sum().index\n",
    "missing_values['Total NaNs'] = application_train.isnull().sum().values\n",
    "\n",
    "missing_values['NanP'] = missing_values['Total NaNs'] / len(application_train)\n",
    "\n",
    "droped_columns = missing_values.loc[missing_values.NanP>0.2,'Columns']\n",
    "application_train.drop(droped_columns,inplace=True,axis=1)"
   ]
  },
  {
   "cell_type": "code",
   "execution_count": 6,
   "metadata": {
    "scrolled": true
   },
   "outputs": [],
   "source": [
    "missing_values = pd.DataFrame(np.ones(shape=(123,2)),columns=['Columns','Total NaNs'])\n",
    "missing_values['Columns'] = application_test.isnull().sum().index\n",
    "missing_values['Total NaNs'] = application_test.isnull().sum().values\n",
    "\n",
    "missing_values['NanP'] = missing_values['Total NaNs'] / len(application_test)\n",
    "\n",
    "droped_columns = missing_values.loc[missing_values.NanP>0.2,'Columns']\n",
    "application_test.drop(droped_columns,inplace=True,axis=1)"
   ]
  },
  {
   "cell_type": "code",
   "execution_count": 7,
   "metadata": {},
   "outputs": [
    {
     "data": {
      "text/plain": [
       "int64      40\n",
       "float64    22\n",
       "object     11\n",
       "dtype: int64"
      ]
     },
     "execution_count": 7,
     "metadata": {},
     "output_type": "execute_result"
    }
   ],
   "source": [
    "application_train.dtypes.value_counts()"
   ]
  },
  {
   "cell_type": "code",
   "execution_count": 8,
   "metadata": {
    "scrolled": false
   },
   "outputs": [
    {
     "data": {
      "text/plain": [
       "NAME_CONTRACT_TYPE             2\n",
       "CODE_GENDER                    3\n",
       "FLAG_OWN_CAR                   2\n",
       "FLAG_OWN_REALTY                2\n",
       "NAME_TYPE_SUITE                7\n",
       "NAME_INCOME_TYPE               8\n",
       "NAME_EDUCATION_TYPE            5\n",
       "NAME_FAMILY_STATUS             6\n",
       "NAME_HOUSING_TYPE              6\n",
       "WEEKDAY_APPR_PROCESS_START     7\n",
       "ORGANIZATION_TYPE             58\n",
       "dtype: int64"
      ]
     },
     "execution_count": 8,
     "metadata": {},
     "output_type": "execute_result"
    }
   ],
   "source": [
    "application_train.select_dtypes('object').apply(pd.Series.nunique, axis = 0)"
   ]
  },
  {
   "cell_type": "code",
   "execution_count": 9,
   "metadata": {},
   "outputs": [],
   "source": [
    "# Categorical Variable Handling\n",
    "\n",
    "from sklearn.preprocessing import LabelEncoder,OneHotEncoder\n",
    "# Create a label encoder object\n",
    "le = LabelEncoder()\n",
    "le_count = 0\n",
    "\n",
    "# Iterate through the columns\n",
    "for col in application_train:\n",
    "    if application_train[col].dtype == 'object':\n",
    "        # If 2 or fewer unique categories\n",
    "        if len(list(application_train[col].unique())) <= 2:\n",
    "            # Train on the training data\n",
    "            le.fit(application_train[col])\n",
    "            # Transform both training and testing data\n",
    "            application_train[col] = le.transform(application_train[col])\n",
    "            application_test[col] = le.transform(application_test[col])\n",
    "\n",
    "# one-hot encoding of categorical variables\n",
    "application_train = pd.get_dummies(application_train)\n",
    "application_test = pd.get_dummies(application_test)\n",
    "\n",
    "# %10 or less missing values handling\n",
    "missing_values = pd.DataFrame(np.ones(shape=(165,2)),columns=['Columns','Total NaNs'])\n",
    "missing_values['Columns'] = application_train.isnull().sum().index\n",
    "missing_values['Total NaNs'] = application_train.isnull().sum().values\n",
    "\n",
    "missing_values['NanP'] = missing_values['Total NaNs'] / len(application_train)\n",
    "\n",
    "median_columns = missing_values[(missing_values.NanP>0)&(missing_values.NanP<=0.2)]['Columns']\n",
    "for col in median_columns:\n",
    "    application_train[col].fillna(application_train[col].median(),inplace=True)"
   ]
  },
  {
   "cell_type": "code",
   "execution_count": 10,
   "metadata": {},
   "outputs": [],
   "source": [
    "# Categorical Variable Handling\n",
    "\n",
    "from sklearn.preprocessing import LabelEncoder,OneHotEncoder\n",
    "# Create a label encoder object\n",
    "le = LabelEncoder()\n",
    "le_count = 0\n",
    "\n",
    "# Iterate through the columns\n",
    "for col in application_test:\n",
    "    if application_test[col].dtype == 'object':\n",
    "        # If 2 or fewer unique categories\n",
    "        if len(list(application_test[col].unique())) <= 2:\n",
    "            # Train on the training data\n",
    "            le.fit(application_test[col])\n",
    "            # Transform both training and testing data\n",
    "            application_test[col] = le.transform(application_test[col])\n",
    "            application_test[col] = le.transform(application_test[col])\n",
    "\n",
    "# one-hot encoding of categorical variables\n",
    "application_test = pd.get_dummies(application_test)\n",
    "application_test = pd.get_dummies(application_test)"
   ]
  },
  {
   "cell_type": "code",
   "execution_count": 11,
   "metadata": {},
   "outputs": [],
   "source": [
    "# %10 or less missing values handling\n",
    "missing_values = pd.DataFrame(np.ones(shape=(162,2)),columns=['Columns','Total NaNs'])\n",
    "missing_values['Columns'] = application_test.isnull().sum().index\n",
    "missing_values['Total NaNs'] = application_test.isnull().sum().values\n",
    "\n",
    "missing_values['NanP'] = missing_values['Total NaNs'] / len(application_test)\n",
    "\n",
    "median_columns = missing_values[(missing_values.NanP>0)&(missing_values.NanP<=0.2)]['Columns']\n",
    "for col in median_columns:\n",
    "    application_test[col].fillna(application_test[col].median(),inplace=True)"
   ]
  },
  {
   "cell_type": "markdown",
   "metadata": {},
   "source": [
    "## 2.2) Anomalies in Features\n",
    "\n",
    "After fill or drop missing values, we can start to look for anomalies in data. We need to drop these outliers because this type of outliers mislead our machine learning models. First of all we start with describe method to gather all statistics of variables. Then we try to decide which variable have anomalies. After that we either drop these rows or fill these values with column median values."
   ]
  },
  {
   "cell_type": "code",
   "execution_count": 12,
   "metadata": {
    "scrolled": false
   },
   "outputs": [
    {
     "data": {
      "text/html": [
       "<div>\n",
       "<style scoped>\n",
       "    .dataframe tbody tr th:only-of-type {\n",
       "        vertical-align: middle;\n",
       "    }\n",
       "\n",
       "    .dataframe tbody tr th {\n",
       "        vertical-align: top;\n",
       "    }\n",
       "\n",
       "    .dataframe thead th {\n",
       "        text-align: right;\n",
       "    }\n",
       "</style>\n",
       "<table border=\"1\" class=\"dataframe\">\n",
       "  <thead>\n",
       "    <tr style=\"text-align: right;\">\n",
       "      <th></th>\n",
       "      <th>SK_ID_CURR</th>\n",
       "      <th>CNT_CHILDREN</th>\n",
       "      <th>AMT_INCOME_TOTAL</th>\n",
       "      <th>AMT_CREDIT</th>\n",
       "      <th>AMT_ANNUITY</th>\n",
       "      <th>AMT_GOODS_PRICE</th>\n",
       "      <th>REGION_POPULATION_RELATIVE</th>\n",
       "      <th>DAYS_BIRTH</th>\n",
       "      <th>DAYS_EMPLOYED</th>\n",
       "      <th>DAYS_REGISTRATION</th>\n",
       "      <th>...</th>\n",
       "      <th>DEF_60_CNT_SOCIAL_CIRCLE</th>\n",
       "      <th>DAYS_LAST_PHONE_CHANGE</th>\n",
       "      <th>AMT_REQ_CREDIT_BUREAU_HOUR</th>\n",
       "      <th>AMT_REQ_CREDIT_BUREAU_DAY</th>\n",
       "      <th>AMT_REQ_CREDIT_BUREAU_WEEK</th>\n",
       "      <th>AMT_REQ_CREDIT_BUREAU_MON</th>\n",
       "      <th>AMT_REQ_CREDIT_BUREAU_QRT</th>\n",
       "      <th>AMT_REQ_CREDIT_BUREAU_YEAR</th>\n",
       "      <th>bureau_score</th>\n",
       "      <th>installment_score</th>\n",
       "    </tr>\n",
       "  </thead>\n",
       "  <tbody>\n",
       "    <tr>\n",
       "      <th>count</th>\n",
       "      <td>307511.000000</td>\n",
       "      <td>307511.000000</td>\n",
       "      <td>3.075110e+05</td>\n",
       "      <td>3.075110e+05</td>\n",
       "      <td>307511.000000</td>\n",
       "      <td>3.075110e+05</td>\n",
       "      <td>307511.000000</td>\n",
       "      <td>307511.000000</td>\n",
       "      <td>307511.000000</td>\n",
       "      <td>307511.000000</td>\n",
       "      <td>...</td>\n",
       "      <td>307511.000000</td>\n",
       "      <td>307511.000000</td>\n",
       "      <td>307511.000000</td>\n",
       "      <td>307511.000000</td>\n",
       "      <td>307511.000000</td>\n",
       "      <td>307511.000000</td>\n",
       "      <td>307511.000000</td>\n",
       "      <td>307511.000000</td>\n",
       "      <td>307511.000000</td>\n",
       "      <td>307511.000000</td>\n",
       "    </tr>\n",
       "    <tr>\n",
       "      <th>mean</th>\n",
       "      <td>278180.518577</td>\n",
       "      <td>0.417052</td>\n",
       "      <td>1.687979e+05</td>\n",
       "      <td>5.990260e+05</td>\n",
       "      <td>27108.487841</td>\n",
       "      <td>5.383163e+05</td>\n",
       "      <td>0.020868</td>\n",
       "      <td>-16036.995067</td>\n",
       "      <td>63815.045904</td>\n",
       "      <td>-4986.120328</td>\n",
       "      <td>...</td>\n",
       "      <td>0.099717</td>\n",
       "      <td>-962.858119</td>\n",
       "      <td>0.005538</td>\n",
       "      <td>0.006055</td>\n",
       "      <td>0.029723</td>\n",
       "      <td>0.231293</td>\n",
       "      <td>0.229631</td>\n",
       "      <td>1.778463</td>\n",
       "      <td>0.283358</td>\n",
       "      <td>76.697324</td>\n",
       "    </tr>\n",
       "    <tr>\n",
       "      <th>std</th>\n",
       "      <td>102790.175348</td>\n",
       "      <td>0.722121</td>\n",
       "      <td>2.371231e+05</td>\n",
       "      <td>4.024908e+05</td>\n",
       "      <td>14493.461065</td>\n",
       "      <td>3.692890e+05</td>\n",
       "      <td>0.013831</td>\n",
       "      <td>4363.988632</td>\n",
       "      <td>141275.766519</td>\n",
       "      <td>3522.886321</td>\n",
       "      <td>...</td>\n",
       "      <td>0.361735</td>\n",
       "      <td>826.807226</td>\n",
       "      <td>0.078014</td>\n",
       "      <td>0.103037</td>\n",
       "      <td>0.190728</td>\n",
       "      <td>0.856810</td>\n",
       "      <td>0.744059</td>\n",
       "      <td>1.765523</td>\n",
       "      <td>3.315798</td>\n",
       "      <td>0.103160</td>\n",
       "    </tr>\n",
       "    <tr>\n",
       "      <th>min</th>\n",
       "      <td>100002.000000</td>\n",
       "      <td>0.000000</td>\n",
       "      <td>2.565000e+04</td>\n",
       "      <td>4.500000e+04</td>\n",
       "      <td>1615.500000</td>\n",
       "      <td>4.050000e+04</td>\n",
       "      <td>0.000290</td>\n",
       "      <td>-25229.000000</td>\n",
       "      <td>-17912.000000</td>\n",
       "      <td>-24672.000000</td>\n",
       "      <td>...</td>\n",
       "      <td>0.000000</td>\n",
       "      <td>-4292.000000</td>\n",
       "      <td>0.000000</td>\n",
       "      <td>0.000000</td>\n",
       "      <td>0.000000</td>\n",
       "      <td>0.000000</td>\n",
       "      <td>0.000000</td>\n",
       "      <td>0.000000</td>\n",
       "      <td>-0.890705</td>\n",
       "      <td>68.918938</td>\n",
       "    </tr>\n",
       "    <tr>\n",
       "      <th>25%</th>\n",
       "      <td>189145.500000</td>\n",
       "      <td>0.000000</td>\n",
       "      <td>1.125000e+05</td>\n",
       "      <td>2.700000e+05</td>\n",
       "      <td>16524.000000</td>\n",
       "      <td>2.385000e+05</td>\n",
       "      <td>0.010006</td>\n",
       "      <td>-19682.000000</td>\n",
       "      <td>-2760.000000</td>\n",
       "      <td>-7479.500000</td>\n",
       "      <td>...</td>\n",
       "      <td>0.000000</td>\n",
       "      <td>-1570.000000</td>\n",
       "      <td>0.000000</td>\n",
       "      <td>0.000000</td>\n",
       "      <td>0.000000</td>\n",
       "      <td>0.000000</td>\n",
       "      <td>0.000000</td>\n",
       "      <td>1.000000</td>\n",
       "      <td>0.003878</td>\n",
       "      <td>76.669010</td>\n",
       "    </tr>\n",
       "    <tr>\n",
       "      <th>50%</th>\n",
       "      <td>278202.000000</td>\n",
       "      <td>0.000000</td>\n",
       "      <td>1.471500e+05</td>\n",
       "      <td>5.135310e+05</td>\n",
       "      <td>24903.000000</td>\n",
       "      <td>4.500000e+05</td>\n",
       "      <td>0.018850</td>\n",
       "      <td>-15750.000000</td>\n",
       "      <td>-1213.000000</td>\n",
       "      <td>-4504.000000</td>\n",
       "      <td>...</td>\n",
       "      <td>0.000000</td>\n",
       "      <td>-757.000000</td>\n",
       "      <td>0.000000</td>\n",
       "      <td>0.000000</td>\n",
       "      <td>0.000000</td>\n",
       "      <td>0.000000</td>\n",
       "      <td>0.000000</td>\n",
       "      <td>1.000000</td>\n",
       "      <td>0.009422</td>\n",
       "      <td>76.711871</td>\n",
       "    </tr>\n",
       "    <tr>\n",
       "      <th>75%</th>\n",
       "      <td>367142.500000</td>\n",
       "      <td>1.000000</td>\n",
       "      <td>2.025000e+05</td>\n",
       "      <td>8.086500e+05</td>\n",
       "      <td>34596.000000</td>\n",
       "      <td>6.795000e+05</td>\n",
       "      <td>0.028663</td>\n",
       "      <td>-12413.000000</td>\n",
       "      <td>-289.000000</td>\n",
       "      <td>-2010.000000</td>\n",
       "      <td>...</td>\n",
       "      <td>0.000000</td>\n",
       "      <td>-274.000000</td>\n",
       "      <td>0.000000</td>\n",
       "      <td>0.000000</td>\n",
       "      <td>0.000000</td>\n",
       "      <td>0.000000</td>\n",
       "      <td>0.000000</td>\n",
       "      <td>3.000000</td>\n",
       "      <td>0.020400</td>\n",
       "      <td>76.744475</td>\n",
       "    </tr>\n",
       "    <tr>\n",
       "      <th>max</th>\n",
       "      <td>456255.000000</td>\n",
       "      <td>19.000000</td>\n",
       "      <td>1.170000e+08</td>\n",
       "      <td>4.050000e+06</td>\n",
       "      <td>258025.500000</td>\n",
       "      <td>4.050000e+06</td>\n",
       "      <td>0.072508</td>\n",
       "      <td>-7489.000000</td>\n",
       "      <td>365243.000000</td>\n",
       "      <td>0.000000</td>\n",
       "      <td>...</td>\n",
       "      <td>24.000000</td>\n",
       "      <td>0.000000</td>\n",
       "      <td>4.000000</td>\n",
       "      <td>9.000000</td>\n",
       "      <td>8.000000</td>\n",
       "      <td>27.000000</td>\n",
       "      <td>261.000000</td>\n",
       "      <td>25.000000</td>\n",
       "      <td>99.943879</td>\n",
       "      <td>92.741803</td>\n",
       "    </tr>\n",
       "  </tbody>\n",
       "</table>\n",
       "<p>8 rows × 30 columns</p>\n",
       "</div>"
      ],
      "text/plain": [
       "          SK_ID_CURR   CNT_CHILDREN  AMT_INCOME_TOTAL    AMT_CREDIT  \\\n",
       "count  307511.000000  307511.000000      3.075110e+05  3.075110e+05   \n",
       "mean   278180.518577       0.417052      1.687979e+05  5.990260e+05   \n",
       "std    102790.175348       0.722121      2.371231e+05  4.024908e+05   \n",
       "min    100002.000000       0.000000      2.565000e+04  4.500000e+04   \n",
       "25%    189145.500000       0.000000      1.125000e+05  2.700000e+05   \n",
       "50%    278202.000000       0.000000      1.471500e+05  5.135310e+05   \n",
       "75%    367142.500000       1.000000      2.025000e+05  8.086500e+05   \n",
       "max    456255.000000      19.000000      1.170000e+08  4.050000e+06   \n",
       "\n",
       "         AMT_ANNUITY  AMT_GOODS_PRICE  REGION_POPULATION_RELATIVE  \\\n",
       "count  307511.000000     3.075110e+05               307511.000000   \n",
       "mean    27108.487841     5.383163e+05                    0.020868   \n",
       "std     14493.461065     3.692890e+05                    0.013831   \n",
       "min      1615.500000     4.050000e+04                    0.000290   \n",
       "25%     16524.000000     2.385000e+05                    0.010006   \n",
       "50%     24903.000000     4.500000e+05                    0.018850   \n",
       "75%     34596.000000     6.795000e+05                    0.028663   \n",
       "max    258025.500000     4.050000e+06                    0.072508   \n",
       "\n",
       "          DAYS_BIRTH  DAYS_EMPLOYED  DAYS_REGISTRATION        ...          \\\n",
       "count  307511.000000  307511.000000      307511.000000        ...           \n",
       "mean   -16036.995067   63815.045904       -4986.120328        ...           \n",
       "std      4363.988632  141275.766519        3522.886321        ...           \n",
       "min    -25229.000000  -17912.000000      -24672.000000        ...           \n",
       "25%    -19682.000000   -2760.000000       -7479.500000        ...           \n",
       "50%    -15750.000000   -1213.000000       -4504.000000        ...           \n",
       "75%    -12413.000000    -289.000000       -2010.000000        ...           \n",
       "max     -7489.000000  365243.000000           0.000000        ...           \n",
       "\n",
       "       DEF_60_CNT_SOCIAL_CIRCLE  DAYS_LAST_PHONE_CHANGE  \\\n",
       "count             307511.000000           307511.000000   \n",
       "mean                   0.099717             -962.858119   \n",
       "std                    0.361735              826.807226   \n",
       "min                    0.000000            -4292.000000   \n",
       "25%                    0.000000            -1570.000000   \n",
       "50%                    0.000000             -757.000000   \n",
       "75%                    0.000000             -274.000000   \n",
       "max                   24.000000                0.000000   \n",
       "\n",
       "       AMT_REQ_CREDIT_BUREAU_HOUR  AMT_REQ_CREDIT_BUREAU_DAY  \\\n",
       "count               307511.000000              307511.000000   \n",
       "mean                     0.005538                   0.006055   \n",
       "std                      0.078014                   0.103037   \n",
       "min                      0.000000                   0.000000   \n",
       "25%                      0.000000                   0.000000   \n",
       "50%                      0.000000                   0.000000   \n",
       "75%                      0.000000                   0.000000   \n",
       "max                      4.000000                   9.000000   \n",
       "\n",
       "       AMT_REQ_CREDIT_BUREAU_WEEK  AMT_REQ_CREDIT_BUREAU_MON  \\\n",
       "count               307511.000000              307511.000000   \n",
       "mean                     0.029723                   0.231293   \n",
       "std                      0.190728                   0.856810   \n",
       "min                      0.000000                   0.000000   \n",
       "25%                      0.000000                   0.000000   \n",
       "50%                      0.000000                   0.000000   \n",
       "75%                      0.000000                   0.000000   \n",
       "max                      8.000000                  27.000000   \n",
       "\n",
       "       AMT_REQ_CREDIT_BUREAU_QRT  AMT_REQ_CREDIT_BUREAU_YEAR   bureau_score  \\\n",
       "count              307511.000000               307511.000000  307511.000000   \n",
       "mean                    0.229631                    1.778463       0.283358   \n",
       "std                     0.744059                    1.765523       3.315798   \n",
       "min                     0.000000                    0.000000      -0.890705   \n",
       "25%                     0.000000                    1.000000       0.003878   \n",
       "50%                     0.000000                    1.000000       0.009422   \n",
       "75%                     0.000000                    3.000000       0.020400   \n",
       "max                   261.000000                   25.000000      99.943879   \n",
       "\n",
       "       installment_score  \n",
       "count      307511.000000  \n",
       "mean           76.697324  \n",
       "std             0.103160  \n",
       "min            68.918938  \n",
       "25%            76.669010  \n",
       "50%            76.711871  \n",
       "75%            76.744475  \n",
       "max            92.741803  \n",
       "\n",
       "[8 rows x 30 columns]"
      ]
     },
     "execution_count": 12,
     "metadata": {},
     "output_type": "execute_result"
    }
   ],
   "source": [
    "anomaly_df = application_train.describe()\n",
    "\n",
    "anomaly_columns=anomaly_df.columns[anomaly_df.iloc[7,:]!=1]\n",
    "anomaly_df[anomaly_columns]"
   ]
  },
  {
   "cell_type": "markdown",
   "metadata": {},
   "source": [
    "### 2.2.1) DAYS_BIRTH"
   ]
  },
  {
   "cell_type": "code",
   "execution_count": 13,
   "metadata": {},
   "outputs": [
    {
     "data": {
      "text/plain": [
       "69.12054794520547"
      ]
     },
     "execution_count": 13,
     "metadata": {},
     "output_type": "execute_result"
    }
   ],
   "source": [
    "25229/365"
   ]
  },
  {
   "cell_type": "code",
   "execution_count": 14,
   "metadata": {},
   "outputs": [
    {
     "data": {
      "text/plain": [
       "20.517808219178082"
      ]
     },
     "execution_count": 14,
     "metadata": {},
     "output_type": "execute_result"
    }
   ],
   "source": [
    "7489/365"
   ]
  },
  {
   "cell_type": "markdown",
   "metadata": {},
   "source": [
    "According to data most youngest person is 20 years old and oldest person is 69 years old. This show that, we have not anomalies in DAYS_BIRTH column."
   ]
  },
  {
   "cell_type": "markdown",
   "metadata": {},
   "source": [
    "### 2.2.2) DAYS_EMPLOYED"
   ]
  },
  {
   "cell_type": "code",
   "execution_count": 15,
   "metadata": {},
   "outputs": [
    {
     "data": {
      "text/html": [
       "<div>\n",
       "<style scoped>\n",
       "    .dataframe tbody tr th:only-of-type {\n",
       "        vertical-align: middle;\n",
       "    }\n",
       "\n",
       "    .dataframe tbody tr th {\n",
       "        vertical-align: top;\n",
       "    }\n",
       "\n",
       "    .dataframe thead th {\n",
       "        text-align: right;\n",
       "    }\n",
       "</style>\n",
       "<table border=\"1\" class=\"dataframe\">\n",
       "  <thead>\n",
       "    <tr style=\"text-align: right;\">\n",
       "      <th></th>\n",
       "      <th>SK_ID_CURR</th>\n",
       "      <th>CNT_CHILDREN</th>\n",
       "      <th>AMT_INCOME_TOTAL</th>\n",
       "      <th>AMT_CREDIT</th>\n",
       "      <th>AMT_ANNUITY</th>\n",
       "      <th>AMT_GOODS_PRICE</th>\n",
       "      <th>REGION_POPULATION_RELATIVE</th>\n",
       "      <th>DAYS_BIRTH</th>\n",
       "      <th>DAYS_EMPLOYED</th>\n",
       "      <th>DAYS_REGISTRATION</th>\n",
       "      <th>...</th>\n",
       "      <th>DEF_60_CNT_SOCIAL_CIRCLE</th>\n",
       "      <th>DAYS_LAST_PHONE_CHANGE</th>\n",
       "      <th>AMT_REQ_CREDIT_BUREAU_HOUR</th>\n",
       "      <th>AMT_REQ_CREDIT_BUREAU_DAY</th>\n",
       "      <th>AMT_REQ_CREDIT_BUREAU_WEEK</th>\n",
       "      <th>AMT_REQ_CREDIT_BUREAU_MON</th>\n",
       "      <th>AMT_REQ_CREDIT_BUREAU_QRT</th>\n",
       "      <th>AMT_REQ_CREDIT_BUREAU_YEAR</th>\n",
       "      <th>bureau_score</th>\n",
       "      <th>installment_score</th>\n",
       "    </tr>\n",
       "  </thead>\n",
       "  <tbody>\n",
       "    <tr>\n",
       "      <th>count</th>\n",
       "      <td>307511.000000</td>\n",
       "      <td>307511.000000</td>\n",
       "      <td>3.075110e+05</td>\n",
       "      <td>3.075110e+05</td>\n",
       "      <td>307511.000000</td>\n",
       "      <td>3.075110e+05</td>\n",
       "      <td>307511.000000</td>\n",
       "      <td>307511.000000</td>\n",
       "      <td>307511.000000</td>\n",
       "      <td>307511.000000</td>\n",
       "      <td>...</td>\n",
       "      <td>307511.000000</td>\n",
       "      <td>307511.000000</td>\n",
       "      <td>307511.000000</td>\n",
       "      <td>307511.000000</td>\n",
       "      <td>307511.000000</td>\n",
       "      <td>307511.000000</td>\n",
       "      <td>307511.000000</td>\n",
       "      <td>307511.000000</td>\n",
       "      <td>307511.000000</td>\n",
       "      <td>307511.000000</td>\n",
       "    </tr>\n",
       "    <tr>\n",
       "      <th>mean</th>\n",
       "      <td>278180.518577</td>\n",
       "      <td>0.417052</td>\n",
       "      <td>1.687979e+05</td>\n",
       "      <td>5.990260e+05</td>\n",
       "      <td>27108.487841</td>\n",
       "      <td>5.383163e+05</td>\n",
       "      <td>0.020868</td>\n",
       "      <td>-16036.995067</td>\n",
       "      <td>81727.045904</td>\n",
       "      <td>-4986.120328</td>\n",
       "      <td>...</td>\n",
       "      <td>0.099717</td>\n",
       "      <td>-962.858119</td>\n",
       "      <td>0.005538</td>\n",
       "      <td>0.006055</td>\n",
       "      <td>0.029723</td>\n",
       "      <td>0.231293</td>\n",
       "      <td>0.229631</td>\n",
       "      <td>1.778463</td>\n",
       "      <td>0.283358</td>\n",
       "      <td>76.697324</td>\n",
       "    </tr>\n",
       "    <tr>\n",
       "      <th>std</th>\n",
       "      <td>102790.175348</td>\n",
       "      <td>0.722121</td>\n",
       "      <td>2.371231e+05</td>\n",
       "      <td>4.024908e+05</td>\n",
       "      <td>14493.461065</td>\n",
       "      <td>3.692890e+05</td>\n",
       "      <td>0.013831</td>\n",
       "      <td>4363.988632</td>\n",
       "      <td>141275.766519</td>\n",
       "      <td>3522.886321</td>\n",
       "      <td>...</td>\n",
       "      <td>0.361735</td>\n",
       "      <td>826.807226</td>\n",
       "      <td>0.078014</td>\n",
       "      <td>0.103037</td>\n",
       "      <td>0.190728</td>\n",
       "      <td>0.856810</td>\n",
       "      <td>0.744059</td>\n",
       "      <td>1.765523</td>\n",
       "      <td>3.315798</td>\n",
       "      <td>0.103160</td>\n",
       "    </tr>\n",
       "    <tr>\n",
       "      <th>min</th>\n",
       "      <td>100002.000000</td>\n",
       "      <td>0.000000</td>\n",
       "      <td>2.565000e+04</td>\n",
       "      <td>4.500000e+04</td>\n",
       "      <td>1615.500000</td>\n",
       "      <td>4.050000e+04</td>\n",
       "      <td>0.000290</td>\n",
       "      <td>-25229.000000</td>\n",
       "      <td>0.000000</td>\n",
       "      <td>-24672.000000</td>\n",
       "      <td>...</td>\n",
       "      <td>0.000000</td>\n",
       "      <td>-4292.000000</td>\n",
       "      <td>0.000000</td>\n",
       "      <td>0.000000</td>\n",
       "      <td>0.000000</td>\n",
       "      <td>0.000000</td>\n",
       "      <td>0.000000</td>\n",
       "      <td>0.000000</td>\n",
       "      <td>-0.890705</td>\n",
       "      <td>68.918938</td>\n",
       "    </tr>\n",
       "    <tr>\n",
       "      <th>25%</th>\n",
       "      <td>189145.500000</td>\n",
       "      <td>0.000000</td>\n",
       "      <td>1.125000e+05</td>\n",
       "      <td>2.700000e+05</td>\n",
       "      <td>16524.000000</td>\n",
       "      <td>2.385000e+05</td>\n",
       "      <td>0.010006</td>\n",
       "      <td>-19682.000000</td>\n",
       "      <td>15152.000000</td>\n",
       "      <td>-7479.500000</td>\n",
       "      <td>...</td>\n",
       "      <td>0.000000</td>\n",
       "      <td>-1570.000000</td>\n",
       "      <td>0.000000</td>\n",
       "      <td>0.000000</td>\n",
       "      <td>0.000000</td>\n",
       "      <td>0.000000</td>\n",
       "      <td>0.000000</td>\n",
       "      <td>1.000000</td>\n",
       "      <td>0.003878</td>\n",
       "      <td>76.669010</td>\n",
       "    </tr>\n",
       "    <tr>\n",
       "      <th>50%</th>\n",
       "      <td>278202.000000</td>\n",
       "      <td>0.000000</td>\n",
       "      <td>1.471500e+05</td>\n",
       "      <td>5.135310e+05</td>\n",
       "      <td>24903.000000</td>\n",
       "      <td>4.500000e+05</td>\n",
       "      <td>0.018850</td>\n",
       "      <td>-15750.000000</td>\n",
       "      <td>16699.000000</td>\n",
       "      <td>-4504.000000</td>\n",
       "      <td>...</td>\n",
       "      <td>0.000000</td>\n",
       "      <td>-757.000000</td>\n",
       "      <td>0.000000</td>\n",
       "      <td>0.000000</td>\n",
       "      <td>0.000000</td>\n",
       "      <td>0.000000</td>\n",
       "      <td>0.000000</td>\n",
       "      <td>1.000000</td>\n",
       "      <td>0.009422</td>\n",
       "      <td>76.711871</td>\n",
       "    </tr>\n",
       "    <tr>\n",
       "      <th>75%</th>\n",
       "      <td>367142.500000</td>\n",
       "      <td>1.000000</td>\n",
       "      <td>2.025000e+05</td>\n",
       "      <td>8.086500e+05</td>\n",
       "      <td>34596.000000</td>\n",
       "      <td>6.795000e+05</td>\n",
       "      <td>0.028663</td>\n",
       "      <td>-12413.000000</td>\n",
       "      <td>17623.000000</td>\n",
       "      <td>-2010.000000</td>\n",
       "      <td>...</td>\n",
       "      <td>0.000000</td>\n",
       "      <td>-274.000000</td>\n",
       "      <td>0.000000</td>\n",
       "      <td>0.000000</td>\n",
       "      <td>0.000000</td>\n",
       "      <td>0.000000</td>\n",
       "      <td>0.000000</td>\n",
       "      <td>3.000000</td>\n",
       "      <td>0.020400</td>\n",
       "      <td>76.744475</td>\n",
       "    </tr>\n",
       "    <tr>\n",
       "      <th>max</th>\n",
       "      <td>456255.000000</td>\n",
       "      <td>19.000000</td>\n",
       "      <td>1.170000e+08</td>\n",
       "      <td>4.050000e+06</td>\n",
       "      <td>258025.500000</td>\n",
       "      <td>4.050000e+06</td>\n",
       "      <td>0.072508</td>\n",
       "      <td>-7489.000000</td>\n",
       "      <td>383155.000000</td>\n",
       "      <td>0.000000</td>\n",
       "      <td>...</td>\n",
       "      <td>24.000000</td>\n",
       "      <td>0.000000</td>\n",
       "      <td>4.000000</td>\n",
       "      <td>9.000000</td>\n",
       "      <td>8.000000</td>\n",
       "      <td>27.000000</td>\n",
       "      <td>261.000000</td>\n",
       "      <td>25.000000</td>\n",
       "      <td>99.943879</td>\n",
       "      <td>92.741803</td>\n",
       "    </tr>\n",
       "  </tbody>\n",
       "</table>\n",
       "<p>8 rows × 30 columns</p>\n",
       "</div>"
      ],
      "text/plain": [
       "          SK_ID_CURR   CNT_CHILDREN  AMT_INCOME_TOTAL    AMT_CREDIT  \\\n",
       "count  307511.000000  307511.000000      3.075110e+05  3.075110e+05   \n",
       "mean   278180.518577       0.417052      1.687979e+05  5.990260e+05   \n",
       "std    102790.175348       0.722121      2.371231e+05  4.024908e+05   \n",
       "min    100002.000000       0.000000      2.565000e+04  4.500000e+04   \n",
       "25%    189145.500000       0.000000      1.125000e+05  2.700000e+05   \n",
       "50%    278202.000000       0.000000      1.471500e+05  5.135310e+05   \n",
       "75%    367142.500000       1.000000      2.025000e+05  8.086500e+05   \n",
       "max    456255.000000      19.000000      1.170000e+08  4.050000e+06   \n",
       "\n",
       "         AMT_ANNUITY  AMT_GOODS_PRICE  REGION_POPULATION_RELATIVE  \\\n",
       "count  307511.000000     3.075110e+05               307511.000000   \n",
       "mean    27108.487841     5.383163e+05                    0.020868   \n",
       "std     14493.461065     3.692890e+05                    0.013831   \n",
       "min      1615.500000     4.050000e+04                    0.000290   \n",
       "25%     16524.000000     2.385000e+05                    0.010006   \n",
       "50%     24903.000000     4.500000e+05                    0.018850   \n",
       "75%     34596.000000     6.795000e+05                    0.028663   \n",
       "max    258025.500000     4.050000e+06                    0.072508   \n",
       "\n",
       "          DAYS_BIRTH  DAYS_EMPLOYED  DAYS_REGISTRATION        ...          \\\n",
       "count  307511.000000  307511.000000      307511.000000        ...           \n",
       "mean   -16036.995067   81727.045904       -4986.120328        ...           \n",
       "std      4363.988632  141275.766519        3522.886321        ...           \n",
       "min    -25229.000000       0.000000      -24672.000000        ...           \n",
       "25%    -19682.000000   15152.000000       -7479.500000        ...           \n",
       "50%    -15750.000000   16699.000000       -4504.000000        ...           \n",
       "75%    -12413.000000   17623.000000       -2010.000000        ...           \n",
       "max     -7489.000000  383155.000000           0.000000        ...           \n",
       "\n",
       "       DEF_60_CNT_SOCIAL_CIRCLE  DAYS_LAST_PHONE_CHANGE  \\\n",
       "count             307511.000000           307511.000000   \n",
       "mean                   0.099717             -962.858119   \n",
       "std                    0.361735              826.807226   \n",
       "min                    0.000000            -4292.000000   \n",
       "25%                    0.000000            -1570.000000   \n",
       "50%                    0.000000             -757.000000   \n",
       "75%                    0.000000             -274.000000   \n",
       "max                   24.000000                0.000000   \n",
       "\n",
       "       AMT_REQ_CREDIT_BUREAU_HOUR  AMT_REQ_CREDIT_BUREAU_DAY  \\\n",
       "count               307511.000000              307511.000000   \n",
       "mean                     0.005538                   0.006055   \n",
       "std                      0.078014                   0.103037   \n",
       "min                      0.000000                   0.000000   \n",
       "25%                      0.000000                   0.000000   \n",
       "50%                      0.000000                   0.000000   \n",
       "75%                      0.000000                   0.000000   \n",
       "max                      4.000000                   9.000000   \n",
       "\n",
       "       AMT_REQ_CREDIT_BUREAU_WEEK  AMT_REQ_CREDIT_BUREAU_MON  \\\n",
       "count               307511.000000              307511.000000   \n",
       "mean                     0.029723                   0.231293   \n",
       "std                      0.190728                   0.856810   \n",
       "min                      0.000000                   0.000000   \n",
       "25%                      0.000000                   0.000000   \n",
       "50%                      0.000000                   0.000000   \n",
       "75%                      0.000000                   0.000000   \n",
       "max                      8.000000                  27.000000   \n",
       "\n",
       "       AMT_REQ_CREDIT_BUREAU_QRT  AMT_REQ_CREDIT_BUREAU_YEAR   bureau_score  \\\n",
       "count              307511.000000               307511.000000  307511.000000   \n",
       "mean                    0.229631                    1.778463       0.283358   \n",
       "std                     0.744059                    1.765523       3.315798   \n",
       "min                     0.000000                    0.000000      -0.890705   \n",
       "25%                     0.000000                    1.000000       0.003878   \n",
       "50%                     0.000000                    1.000000       0.009422   \n",
       "75%                     0.000000                    3.000000       0.020400   \n",
       "max                   261.000000                   25.000000      99.943879   \n",
       "\n",
       "       installment_score  \n",
       "count      307511.000000  \n",
       "mean           76.697324  \n",
       "std             0.103160  \n",
       "min            68.918938  \n",
       "25%            76.669010  \n",
       "50%            76.711871  \n",
       "75%            76.744475  \n",
       "max            92.741803  \n",
       "\n",
       "[8 rows x 30 columns]"
      ]
     },
     "execution_count": 15,
     "metadata": {},
     "output_type": "execute_result"
    }
   ],
   "source": [
    "application_train.DAYS_EMPLOYED = application_train.DAYS_EMPLOYED - np.min(application_train.DAYS_EMPLOYED)\n",
    "application_test.DAYS_EMPLOYED = application_test.DAYS_EMPLOYED - np.min(application_test.DAYS_EMPLOYED)\n",
    "\n",
    "anomaly_df = application_train.describe()\n",
    "\n",
    "anomaly_columns=anomaly_df.columns[anomaly_df.iloc[7,:]!=1]\n",
    "anomaly_df[anomaly_columns]"
   ]
  },
  {
   "cell_type": "markdown",
   "metadata": {},
   "source": [
    "In days employed columns we need to change it positive variables. So we add minumum amount to all rows to gather positive variables. Because person can not employed negative days. Also oldest person in data is 69 years old then max years employed must be 45-50 years. We determine these days. If person days employed higher than 45-50 years we replace with Nan then we fill these values with column's median value."
   ]
  },
  {
   "cell_type": "code",
   "execution_count": 16,
   "metadata": {},
   "outputs": [
    {
     "data": {
      "text/plain": [
       "18250"
      ]
     },
     "execution_count": 16,
     "metadata": {},
     "output_type": "execute_result"
    }
   ],
   "source": [
    "50*365"
   ]
  },
  {
   "cell_type": "code",
   "execution_count": 17,
   "metadata": {
    "scrolled": true
   },
   "outputs": [],
   "source": [
    "l = application_train[application_train.DAYS_EMPLOYED>18250]['DAYS_EMPLOYED'].index\n",
    "application_train.loc[l,'DAYS_EMPLOYED'] = np.nan\n",
    "application_train['DAYS_EMPLOYED'].fillna(application_train['DAYS_EMPLOYED'].median(),inplace=True)"
   ]
  },
  {
   "cell_type": "code",
   "execution_count": 18,
   "metadata": {},
   "outputs": [],
   "source": [
    "l = application_test[application_test.DAYS_EMPLOYED>18250]['DAYS_EMPLOYED'].index\n",
    "application_test.loc[l,'DAYS_EMPLOYED'] = np.nan\n",
    "application_test['DAYS_EMPLOYED'].fillna(application_test['DAYS_EMPLOYED'].median(),inplace=True)"
   ]
  },
  {
   "cell_type": "markdown",
   "metadata": {},
   "source": [
    "### 2.2.3) DAYS_REGISTRATION"
   ]
  },
  {
   "cell_type": "markdown",
   "metadata": {},
   "source": [
    "Since we know oldest client in data is 69 years old. Again registration cannot higher than 45-50 years. We use same method for this anomaly."
   ]
  },
  {
   "cell_type": "code",
   "execution_count": 19,
   "metadata": {},
   "outputs": [],
   "source": [
    "l = application_train[application_train.DAYS_REGISTRATION>18250]['DAYS_REGISTRATION'].index\n",
    "application_train.loc[l,'DAYS_REGISTRATION'] = np.nan\n",
    "application_train['DAYS_REGISTRATION'].fillna(application_train['DAYS_REGISTRATION'].median(),inplace=True)"
   ]
  },
  {
   "cell_type": "code",
   "execution_count": 20,
   "metadata": {},
   "outputs": [],
   "source": [
    "l = application_test[application_test.DAYS_REGISTRATION>18250]['DAYS_REGISTRATION'].index\n",
    "application_test.loc[l,'DAYS_REGISTRATION'] = np.nan\n",
    "application_test['DAYS_REGISTRATION'].fillna(application_test['DAYS_REGISTRATION'].median(),inplace=True)"
   ]
  },
  {
   "cell_type": "markdown",
   "metadata": {},
   "source": [
    "## 2.3) Relationship with Target Variables\n",
    "\n",
    "We handle missing values and outliers so far. Now we can determine correlation between target variable and predictive variables. We can check that is the relationship between these variables make sense or something wrong in data. We can look 2 most correlated variables to decide that. We use plots from Koehrsen notebook. "
   ]
  },
  {
   "cell_type": "code",
   "execution_count": 21,
   "metadata": {},
   "outputs": [
    {
     "data": {
      "text/plain": [
       "DAYS_EMPLOYED    0.063368\n",
       "DAYS_BIRTH       0.078239\n",
       "TARGET           1.000000\n",
       "Name: TARGET, dtype: float64"
      ]
     },
     "execution_count": 21,
     "metadata": {},
     "output_type": "execute_result"
    }
   ],
   "source": [
    "application_train['TARGET'] = target_variable\n",
    "corr = application_train.corr()['TARGET'].sort_values()\n",
    "\n",
    "corr.tail(3)"
   ]
  },
  {
   "cell_type": "code",
   "execution_count": 22,
   "metadata": {},
   "outputs": [
    {
     "data": {
      "text/plain": [
       "EXT_SOURCE_2   -0.160295\n",
       "EXT_SOURCE_3   -0.155892\n",
       "Name: TARGET, dtype: float64"
      ]
     },
     "execution_count": 22,
     "metadata": {},
     "output_type": "execute_result"
    }
   ],
   "source": [
    "corr.head(2)"
   ]
  },
  {
   "cell_type": "markdown",
   "metadata": {},
   "source": [
    "### 2.3.1) EXT_SOURCE_2"
   ]
  },
  {
   "cell_type": "code",
   "execution_count": 23,
   "metadata": {
    "scrolled": false
   },
   "outputs": [
    {
     "data": {
      "image/png": "[encoded data removed]",
      "text/plain": [
       "<Figure size 432x288 with 1 Axes>"
      ]
     },
     "metadata": {},
     "output_type": "display_data"
    }
   ],
   "source": [
    "plt.figure(figsize = (6, 4))\n",
    "\n",
    "# KDE plot of loans that were repaid on time\n",
    "sns.kdeplot(application_train.loc[application_train['TARGET'] == 0, 'EXT_SOURCE_2'], label = 'target == 0')\n",
    "\n",
    "# KDE plot of loans which were not repaid on time\n",
    "sns.kdeplot(application_train.loc[application_train['TARGET'] == 1, 'EXT_SOURCE_2'], label = 'target == 1')\n",
    "\n",
    "# Labeling of plot\n",
    "plt.xlabel('EXT_SOURCE_2'); plt.ylabel('Density'); plt.title('Distribution EXT_SOURCE');"
   ]
  },
  {
   "cell_type": "markdown",
   "metadata": {},
   "source": [
    "We can easily say that between 0.6 and 0.8 values of EXT_SOURCE_2, client pay their repayment."
   ]
  },
  {
   "cell_type": "markdown",
   "metadata": {},
   "source": [
    "### 2.3.2) DAYS_EMPLOYED"
   ]
  },
  {
   "cell_type": "code",
   "execution_count": 24,
   "metadata": {
    "scrolled": false
   },
   "outputs": [
    {
     "data": {
      "image/png": "[encoded data removed]",
      "text/plain": [
       "<Figure size 432x288 with 1 Axes>"
      ]
     },
     "metadata": {},
     "output_type": "display_data"
    }
   ],
   "source": [
    "plt.figure(figsize = (6, 4))\n",
    "\n",
    "# KDE plot of loans that were repaid on time\n",
    "sns.kdeplot(application_train.loc[application_train['TARGET'] == 0, 'DAYS_EMPLOYED'] / 365, label = 'target == 0')\n",
    "\n",
    "# KDE plot of loans which were not repaid on time\n",
    "sns.kdeplot(application_train.loc[application_train['TARGET'] == 1, 'DAYS_EMPLOYED'] / 365, label = 'target == 1')\n",
    "\n",
    "# Labeling of plot\n",
    "plt.xlabel('DAYS_EMPLOYED'); plt.ylabel('Density'); plt.title('Distribution DAYS_EMPLOYED');"
   ]
  },
  {
   "cell_type": "markdown",
   "metadata": {},
   "source": [
    "We can easily say that if client is employed more than 40 years, client paid their repayment."
   ]
  },
  {
   "cell_type": "markdown",
   "metadata": {},
   "source": [
    "# 3) Feature Engineering\n",
    "\n",
    "To get better model to predict client is either pay his/her repayment or do not pay repayment, we need to create better features. Every possible new feature can be lead our model to success. New features and their formulas are following(Some of features taken from Koehrsen notebook);\n",
    "\n",
    "    -INCOME_PER_PERSON: Total income divided by family members count.\n",
    "    -CREDIT_INCOME_PERCENT: The percentage of the credit amount relative to a client's income.\n",
    "    -ANNUITY_INCOME_PERCENT: The percentage of the loan annuity relative to a client's income.\n",
    "    -CREDIT_TERM: The length of the payment in months (since the annuity is the monthly amount due.\n",
    "    -DAYS_EMPLOYED_PERCENT: The percentage of the days employed relative to the client's age.\n",
    "    -GOOD_PRICE_PERCENT: The percentage of the good price relative to client total income.\n",
    "    -CHILDREN_PERCENT: The percentage of children count relative to client family members count.\n",
    "    -OBS_30_CNT_SOCIAL_CIRCLE_REGION: Regional ratio of observable 30 day past due\n",
    "    -DEF_30_CNT_SOCIAL_CIRCLE_REGION: Regional ratio of default 30 day past due\n",
    "    -OBS_60_CNT_SOCIAL_CIRCLE_REGION: Regional ratio of observable 60 day past due\n",
    "    -DEF_60_CNT_SOCIAL_CIRCLE_REGION: Regional ratio of observable 60 day past due\n"
   ]
  },
  {
   "cell_type": "code",
   "execution_count": 25,
   "metadata": {},
   "outputs": [],
   "source": [
    "application_train_new = application_train.copy()\n",
    "application_test_new = application_test.copy()\n",
    "\n",
    "application_train_new['INCOME_PER_PERSON'] = application_train['AMT_INCOME_TOTAL'] / application_train['CNT_FAM_MEMBERS']\n",
    "application_train_new['CREDIT_INCOME_PERCENT'] = application_train_new['AMT_CREDIT'] / application_train_new['AMT_INCOME_TOTAL']\n",
    "application_train_new['ANNUITY_INCOME_PERCENT'] = application_train_new['AMT_ANNUITY'] / application_train_new['AMT_INCOME_TOTAL']\n",
    "application_train_new['CREDIT_TERM'] = application_train_new['AMT_ANNUITY'] / application_train_new['AMT_CREDIT']\n",
    "application_train_new['DAYS_EMPLOYED_PERCENT'] = application_train_new['DAYS_EMPLOYED'] / application_train_new['DAYS_BIRTH']\n",
    "application_train_new['GOOD_PRICE_PERCENT'] = application_train_new['AMT_GOODS_PRICE'] / application_train_new['AMT_INCOME_TOTAL']\n",
    "application_train_new['CHILDREN_PERCENT'] = application_train_new['CNT_CHILDREN'] / application_train_new['CNT_FAM_MEMBERS']\n",
    "application_train_new['OBS_30_CNT_SOCIAL_CIRCLE_REGION'] = application_train_new.OBS_30_CNT_SOCIAL_CIRCLE * application_train_new.REGION_POPULATION_RELATIVE\n",
    "application_train_new['DEF_30_CNT_SOCIAL_CIRCLE_REGION'] = application_train_new.DEF_30_CNT_SOCIAL_CIRCLE * application_train_new.REGION_POPULATION_RELATIVE\n",
    "application_train_new['OBS_60_CNT_SOCIAL_CIRCLE_REGION'] = application_train_new.OBS_60_CNT_SOCIAL_CIRCLE * application_train_new.REGION_POPULATION_RELATIVE\n",
    "application_train_new['DEF_60_CNT_SOCIAL_CIRCLE_REGION'] = application_train_new.DEF_60_CNT_SOCIAL_CIRCLE * application_train_new.REGION_POPULATION_RELATIVE\n",
    "\n",
    "application_test_new['INCOME_PER_PERSON'] = application_train['AMT_INCOME_TOTAL'] / application_train['CNT_FAM_MEMBERS']\n",
    "application_test_new['CREDIT_INCOME_PERCENT'] = application_test_new['AMT_CREDIT'] / application_test_new['AMT_INCOME_TOTAL']\n",
    "application_test_new['ANNUITY_INCOME_PERCENT'] = application_test_new['AMT_ANNUITY'] / application_test_new['AMT_INCOME_TOTAL']\n",
    "application_test_new['CREDIT_TERM'] = application_test_new['AMT_ANNUITY'] / application_test_new['AMT_CREDIT']\n",
    "application_test_new['DAYS_EMPLOYED_PERCENT'] = application_test_new['DAYS_EMPLOYED'] / application_test_new['DAYS_BIRTH']\n",
    "application_test_new['GOOD_PRICE_PERCENT'] = application_test_new['AMT_GOODS_PRICE'] / application_test_new['AMT_INCOME_TOTAL']\n",
    "application_test_new['CHILDREN_PERCENT'] = application_test_new['CNT_CHILDREN'] / application_test_new['CNT_FAM_MEMBERS']\n",
    "application_test_new['OBS_30_CNT_SOCIAL_CIRCLE_REGION'] = application_test_new.OBS_30_CNT_SOCIAL_CIRCLE * application_test_new.REGION_POPULATION_RELATIVE\n",
    "application_test_new['DEF_30_CNT_SOCIAL_CIRCLE_REGION'] = application_test_new.DEF_30_CNT_SOCIAL_CIRCLE * application_test_new.REGION_POPULATION_RELATIVE\n",
    "application_test_new['OBS_60_CNT_SOCIAL_CIRCLE_REGION'] = application_test_new.OBS_60_CNT_SOCIAL_CIRCLE * application_test_new.REGION_POPULATION_RELATIVE\n",
    "application_test_new['DEF_60_CNT_SOCIAL_CIRCLE_REGION'] = application_test_new.DEF_60_CNT_SOCIAL_CIRCLE * application_test_new.REGION_POPULATION_RELATIVE"
   ]
  },
  {
   "cell_type": "markdown",
   "metadata": {},
   "source": [
    "After creating these features, we need to check missing and infinite values for them again."
   ]
  },
  {
   "cell_type": "code",
   "execution_count": 26,
   "metadata": {
    "scrolled": true
   },
   "outputs": [
    {
     "data": {
      "text/plain": [
       "INCOME_PER_PERSON                  0\n",
       "CREDIT_INCOME_PERCENT              0\n",
       "ANNUITY_INCOME_PERCENT             0\n",
       "CREDIT_TERM                        0\n",
       "DAYS_EMPLOYED_PERCENT              0\n",
       "GOOD_PRICE_PERCENT                 0\n",
       "CHILDREN_PERCENT                   0\n",
       "OBS_30_CNT_SOCIAL_CIRCLE_REGION    0\n",
       "DEF_30_CNT_SOCIAL_CIRCLE_REGION    0\n",
       "OBS_60_CNT_SOCIAL_CIRCLE_REGION    0\n",
       "DEF_60_CNT_SOCIAL_CIRCLE_REGION    0\n",
       "dtype: int64"
      ]
     },
     "execution_count": 26,
     "metadata": {},
     "output_type": "execute_result"
    }
   ],
   "source": [
    "application_train_new.replace([np.inf,-np.inf],np.nan,inplace=True)\n",
    "application_train_new.isnull().sum().tail(11)"
   ]
  },
  {
   "cell_type": "code",
   "execution_count": 27,
   "metadata": {
    "scrolled": true
   },
   "outputs": [
    {
     "data": {
      "text/plain": [
       "INCOME_PER_PERSON                  0\n",
       "CREDIT_INCOME_PERCENT              0\n",
       "ANNUITY_INCOME_PERCENT             0\n",
       "CREDIT_TERM                        0\n",
       "DAYS_EMPLOYED_PERCENT              0\n",
       "GOOD_PRICE_PERCENT                 0\n",
       "CHILDREN_PERCENT                   0\n",
       "OBS_30_CNT_SOCIAL_CIRCLE_REGION    0\n",
       "DEF_30_CNT_SOCIAL_CIRCLE_REGION    0\n",
       "OBS_60_CNT_SOCIAL_CIRCLE_REGION    0\n",
       "DEF_60_CNT_SOCIAL_CIRCLE_REGION    0\n",
       "dtype: int64"
      ]
     },
     "execution_count": 27,
     "metadata": {},
     "output_type": "execute_result"
    }
   ],
   "source": [
    "application_test_new.replace([np.inf,-np.inf],np.nan,inplace=True)\n",
    "application_test_new.isnull().sum().tail(11)"
   ]
  },
  {
   "cell_type": "markdown",
   "metadata": {},
   "source": [
    "# 4) Feature Importance and Target Variable Analysis\n",
    "\n",
    "After gather and clean all features, now we can start to determine best features that explain target variable. We are going to use RandomForest and Logistic Regression to determine these features. After implementation these alghoritms, we select for these alghoritms best to features and look distribution of target variable.\n",
    "\n",
    "## 4.1) RandomForestClassifier for Feature Importance"
   ]
  },
  {
   "cell_type": "code",
   "execution_count": 28,
   "metadata": {},
   "outputs": [],
   "source": [
    "a = application_train_new.columns.difference(application_test_new.columns)\n",
    "a= a.drop('TARGET')\n",
    "\n",
    "application_train_new.drop(a,inplace=True,axis=1)"
   ]
  },
  {
   "cell_type": "code",
   "execution_count": 29,
   "metadata": {
    "scrolled": true
   },
   "outputs": [
    {
     "data": {
      "text/plain": [
       "RandomForestClassifier(bootstrap=True, class_weight=None, criterion='gini',\n",
       "            max_depth=None, max_features='auto', max_leaf_nodes=None,\n",
       "            min_impurity_decrease=0.0, min_impurity_split=None,\n",
       "            min_samples_leaf=1, min_samples_split=2,\n",
       "            min_weight_fraction_leaf=0.0, n_estimators=30, n_jobs=-1,\n",
       "            oob_score=False, random_state=None, verbose=0,\n",
       "            warm_start=False)"
      ]
     },
     "execution_count": 29,
     "metadata": {},
     "output_type": "execute_result"
    }
   ],
   "source": [
    "from sklearn.ensemble import RandomForestClassifier\n",
    "from sklearn.preprocessing import StandardScaler\n",
    "\n",
    "scalar = StandardScaler()\n",
    "X = application_train_new.drop('TARGET',axis=1)\n",
    "y = application_train_new.TARGET\n",
    "X_scaled = scalar.fit_transform(X)\n",
    "\n",
    "rf = RandomForestClassifier(n_jobs=-1,n_estimators=30)\n",
    "rf.fit(X_scaled,y)"
   ]
  },
  {
   "cell_type": "code",
   "execution_count": 30,
   "metadata": {
    "scrolled": false
   },
   "outputs": [
    {
     "data": {
      "text/html": [
       "<div>\n",
       "<style scoped>\n",
       "    .dataframe tbody tr th:only-of-type {\n",
       "        vertical-align: middle;\n",
       "    }\n",
       "\n",
       "    .dataframe tbody tr th {\n",
       "        vertical-align: top;\n",
       "    }\n",
       "\n",
       "    .dataframe thead th {\n",
       "        text-align: right;\n",
       "    }\n",
       "</style>\n",
       "<table border=\"1\" class=\"dataframe\">\n",
       "  <thead>\n",
       "    <tr style=\"text-align: right;\">\n",
       "      <th></th>\n",
       "      <th>Features</th>\n",
       "      <th>Values</th>\n",
       "    </tr>\n",
       "  </thead>\n",
       "  <tbody>\n",
       "    <tr>\n",
       "      <th>30</th>\n",
       "      <td>EXT_SOURCE_2</td>\n",
       "      <td>0.052287</td>\n",
       "    </tr>\n",
       "    <tr>\n",
       "      <th>31</th>\n",
       "      <td>EXT_SOURCE_3</td>\n",
       "      <td>0.048684</td>\n",
       "    </tr>\n",
       "  </tbody>\n",
       "</table>\n",
       "</div>"
      ],
      "text/plain": [
       "        Features    Values\n",
       "30  EXT_SOURCE_2  0.052287\n",
       "31  EXT_SOURCE_3  0.048684"
      ]
     },
     "execution_count": 30,
     "metadata": {},
     "output_type": "execute_result"
    }
   ],
   "source": [
    "result_rf = pd.DataFrame()\n",
    "result_rf['Features'] = X.columns\n",
    "result_rf ['Values'] = rf.feature_importances_\n",
    "result_rf.sort_values('Values',inplace=True, ascending = False)\n",
    "result_rf.head(2)"
   ]
  },
  {
   "cell_type": "markdown",
   "metadata": {},
   "source": [
    "We already look realation between EXTRA_SOURCE and Target variable."
   ]
  },
  {
   "cell_type": "markdown",
   "metadata": {},
   "source": [
    "## 4.2) Logistic Regression"
   ]
  },
  {
   "cell_type": "code",
   "execution_count": 31,
   "metadata": {},
   "outputs": [
    {
     "data": {
      "text/plain": [
       "DAYS_BIRTH    0.357050\n",
       "AMT_CREDIT    0.975591\n",
       "dtype: float64"
      ]
     },
     "execution_count": 31,
     "metadata": {},
     "output_type": "execute_result"
    }
   ],
   "source": [
    "from sklearn.linear_model import LogisticRegression\n",
    "\n",
    "lr = LogisticRegression()\n",
    "lr.fit(X_scaled,y)\n",
    "a = lr.coef_[0]\n",
    "coef = pd.Series(a, index=X.columns)\n",
    "coef.sort_values(inplace=True)\n",
    "\n",
    "coef.tail(2)"
   ]
  },
  {
   "cell_type": "markdown",
   "metadata": {},
   "source": [
    "### 4.2.1) DAYS_ID_PUBLISH"
   ]
  },
  {
   "cell_type": "code",
   "execution_count": 32,
   "metadata": {},
   "outputs": [
    {
     "data": {
      "image/png": "[encoded data removed]",
      "text/plain": [
       "<Figure size 432x288 with 1 Axes>"
      ]
     },
     "metadata": {},
     "output_type": "display_data"
    }
   ],
   "source": [
    "plt.figure(figsize = (6, 4))\n",
    "\n",
    "# KDE plot of loans that were repaid on time\n",
    "sns.kdeplot(application_train.loc[application_train['TARGET'] == 0, 'DAYS_ID_PUBLISH'], label = 'target == 0')\n",
    "\n",
    "# KDE plot of loans which were not repaid on time\n",
    "sns.kdeplot(application_train.loc[application_train['TARGET'] == 1, 'DAYS_ID_PUBLISH'], label = 'target == 1')\n",
    "\n",
    "# Labeling of plot\n",
    "plt.xlabel('DAYS_ID_PUBLISH'); plt.ylabel('Density'); plt.title('Distribution DAYS_ID_PUBLISH');"
   ]
  },
  {
   "cell_type": "markdown",
   "metadata": {},
   "source": [
    "### 4.2.2) DAYS_LAST_PHONE_CHANGE"
   ]
  },
  {
   "cell_type": "code",
   "execution_count": 33,
   "metadata": {},
   "outputs": [
    {
     "data": {
      "image/png": "[encoded data removed]",
      "text/plain": [
       "<Figure size 432x288 with 1 Axes>"
      ]
     },
     "metadata": {},
     "output_type": "display_data"
    }
   ],
   "source": [
    "plt.figure(figsize = (6, 4))\n",
    "\n",
    "# KDE plot of loans that were repaid on time\n",
    "sns.kdeplot(application_train.loc[application_train['TARGET'] == 0, 'DAYS_LAST_PHONE_CHANGE'], label = 'target == 0')\n",
    "\n",
    "# KDE plot of loans which were not repaid on time\n",
    "sns.kdeplot(application_train.loc[application_train['TARGET'] == 1, 'DAYS_LAST_PHONE_CHANGE'], label = 'target == 1')\n",
    "\n",
    "# Labeling of plot\n",
    "plt.xlabel('DAYS_LAST_PHONE_CHANGE'); plt.ylabel('Density'); plt.title('Distribution DAYS_LAST_PHONE_CHANGE');"
   ]
  },
  {
   "cell_type": "markdown",
   "metadata": {},
   "source": [
    "# 5) Models Implementation and Feature Elimination\n",
    "\n",
    "Now our dataset is ready for build machine learning models. We use Principal Component Analysis and Recursive Feature Elimination techniques for feature elimination. PCA take best features and combine them to gather best explained features. Also we implement boostrap sampling because our dataset is rare event. There is few ones in dataset. We try to increase number of the ones by using boostrap sampling. We are going to implement Ridge Classifier, Logistic Regression, Random Forest Classifier, Linear Discriminant Analysis and Quadratic Discriminant Analysis alghoritms. We select best alghoritm or combine them for better results.\n",
    "\n",
    "## 5.1) Principal Component Analysis without Boostrap Sampling"
   ]
  },
  {
   "cell_type": "code",
   "execution_count": 37,
   "metadata": {
    "scrolled": false
   },
   "outputs": [
    {
     "name": "stdout",
     "output_type": "stream",
     "text": [
      "2018-08-14 23:30:15.450992\n",
      "2018-08-14 23:30:52.460391\n",
      "2018-08-14 23:31:11.811930\n",
      "2018-08-14 23:31:14.256898\n",
      "2018-08-14 23:31:20.225343\n"
     ]
    }
   ],
   "source": [
    "from sklearn.discriminant_analysis import LinearDiscriminantAnalysis\n",
    "from sklearn.discriminant_analysis import QuadraticDiscriminantAnalysis\n",
    "from sklearn.linear_model import RidgeClassifier\n",
    "from sklearn.svm import SVC\n",
    "from sklearn.linear_model import ElasticNet, LogisticRegression\n",
    "from sklearn.ensemble import RandomForestClassifier\n",
    "from sklearn.neighbors import KNeighborsClassifier\n",
    "from sklearn.model_selection import train_test_split\n",
    "from sklearn.decomposition import PCA\n",
    "from sklearn.metrics import confusion_matrix\n",
    "from sklearn.preprocessing import StandardScaler\n",
    "import datetime\n",
    "\n",
    "X_train, X_test, y_train, y_test = train_test_split(X,y,test_size=0.2,random_state=42)\n",
    "result_df = pd.DataFrame(data=np.ones(shape=(5,9)),columns=['Model','TruePositive','FalsePositive','FalseNegative','TrueNegative','Accuracy'\n",
    "                                                         ,'Precision','Recall','Specifity'])\n",
    "\n",
    "pca = PCA(n_components = 100)\n",
    "pca_X_train = pd.DataFrame(pca.fit_transform(X_train))\n",
    "pca_X_train.index = X_train.index\n",
    "\n",
    "pca_X_test = pd.DataFrame(pca.transform(X_test))\n",
    "pca_X_test.index = X_test.index\n",
    "\n",
    "clf_1 = RidgeClassifier()\n",
    "clf_1.fit(pca_X_train, y_train)\n",
    "tn, fn,fp, tp = confusion_matrix(y_test,clf_1.predict(pca_X_test)).ravel()\n",
    "result_df.loc[0,'Model'] = str(clf_1).split('(')[0]\n",
    "result_df.loc[0,'TruePositive'] = tp\n",
    "result_df.loc[0,'FalsePositive'] = fp\n",
    "result_df.loc[0,'FalseNegative'] = fn\n",
    "result_df.loc[0,'TrueNegative'] = tn\n",
    "result_df.loc[0,'Accuracy'] = (tp+tn)/(tp+tn+fp+fn)\n",
    "result_df.loc[0,'Precision'] = tp/(tp+fp)\n",
    "result_df.loc[0,'Recall'] = tp / (tp+fn)\n",
    "result_df.loc[0,'Specifity'] = tn / (tn+fp)\n",
    "print(datetime.datetime.now())\n",
    "\n",
    "clf_4 = LogisticRegression(C=0.05)\n",
    "clf_4.fit(pca_X_train, y_train)\n",
    "tn, fn,fp, tp = confusion_matrix(y_test,clf_4.predict(pca_X_test)).ravel()\n",
    "result_df.loc[1,'Model'] = str(clf_4).split('(')[0]\n",
    "result_df.loc[1,'TruePositive'] = tp\n",
    "result_df.loc[1,'FalsePositive'] = fp\n",
    "result_df.loc[1,'FalseNegative'] = fn\n",
    "result_df.loc[1,'TrueNegative'] = tn\n",
    "result_df.loc[1,'Accuracy'] = (tp+tn)/(tp+tn+fp+fn)\n",
    "result_df.loc[1,'Precision'] = tp/(tp+fp)\n",
    "result_df.loc[1,'Recall'] = tp / (tp+fn)\n",
    "result_df.loc[1,'Specifity'] = tn / (tn+fp)\n",
    "print(datetime.datetime.now())\n",
    "\n",
    "clf_5 = RandomForestClassifier(n_jobs=-1)\n",
    "clf_5.fit(pca_X_train,y_train)\n",
    "tn, fn,fp, tp = confusion_matrix(y_test,clf_5.predict(pca_X_test)).ravel()\n",
    "result_df.loc[2,'Model'] = str(clf_5).split('(')[0]\n",
    "result_df.loc[2,'TruePositive'] = tp\n",
    "result_df.loc[2,'FalsePositive'] = fp\n",
    "result_df.loc[2,'FalseNegative'] = fn\n",
    "result_df.loc[2,'TrueNegative'] = tn\n",
    "result_df.loc[2,'Accuracy'] = (tp+tn)/(tp+tn+fp+fn)\n",
    "result_df.loc[2,'Precision'] = tp/(tp+fp)\n",
    "result_df.loc[2,'Recall'] = tp / (tp+fn)\n",
    "result_df.loc[2,'Specifity'] = tn / (tn+fp)\n",
    "print(datetime.datetime.now())\n",
    "\n",
    "clf_6 = LinearDiscriminantAnalysis()\n",
    "clf_6.fit(pca_X_train, y_train)\n",
    "tn, fn,fp, tp= confusion_matrix(y_test,clf_6.predict(pca_X_test)).ravel()\n",
    "result_df.loc[3,'Model'] = str(clf_6).split('(')[0]\n",
    "result_df.loc[3,'TruePositive'] = tp\n",
    "result_df.loc[3,'FalsePositive'] = fp\n",
    "result_df.loc[3,'FalseNegative'] = fn\n",
    "result_df.loc[3,'TrueNegative'] = tn\n",
    "result_df.loc[3,'Accuracy'] = (tp+tn)/(tp+tn+fp+fn)\n",
    "result_df.loc[3,'Precision'] = tp/(tp+fp)\n",
    "result_df.loc[3,'Recall'] = tp / (tp+fn)\n",
    "result_df.loc[3,'Specifity'] = tn / (tn+fp)\n",
    "print(datetime.datetime.now())\n",
    "\n",
    "clf_7 = QuadraticDiscriminantAnalysis()\n",
    "clf_7.fit(pca_X_train,y_train)\n",
    "tn, fn,fp, tp = confusion_matrix(y_test,clf_7.predict(pca_X_test)).ravel()\n",
    "result_df.loc[4,'Model'] = str(clf_7).split('(')[0]\n",
    "result_df.loc[4,'TruePositive'] = tp\n",
    "result_df.loc[4,'FalsePositive'] = fp\n",
    "result_df.loc[4,'FalseNegative'] = fn\n",
    "result_df.loc[4,'TrueNegative'] = tn\n",
    "result_df.loc[4,'Accuracy'] = (tp+tn)/(tp+tn+fp+fn)\n",
    "result_df.loc[4,'Precision'] = tp/(tp+fp)\n",
    "result_df.loc[4,'Recall'] = tp / (tp+fn)\n",
    "result_df.loc[4,'Specifity'] = tn / (tn+fp)\n",
    "print(datetime.datetime.now())"
   ]
  },
  {
   "cell_type": "code",
   "execution_count": 38,
   "metadata": {
    "scrolled": false
   },
   "outputs": [
    {
     "data": {
      "text/html": [
       "<div>\n",
       "<style scoped>\n",
       "    .dataframe tbody tr th:only-of-type {\n",
       "        vertical-align: middle;\n",
       "    }\n",
       "\n",
       "    .dataframe tbody tr th {\n",
       "        vertical-align: top;\n",
       "    }\n",
       "\n",
       "    .dataframe thead th {\n",
       "        text-align: right;\n",
       "    }\n",
       "</style>\n",
       "<table border=\"1\" class=\"dataframe\">\n",
       "  <thead>\n",
       "    <tr style=\"text-align: right;\">\n",
       "      <th></th>\n",
       "      <th>Model</th>\n",
       "      <th>TruePositive</th>\n",
       "      <th>FalsePositive</th>\n",
       "      <th>FalseNegative</th>\n",
       "      <th>TrueNegative</th>\n",
       "      <th>Accuracy</th>\n",
       "      <th>Precision</th>\n",
       "      <th>Recall</th>\n",
       "      <th>Specifity</th>\n",
       "    </tr>\n",
       "  </thead>\n",
       "  <tbody>\n",
       "    <tr>\n",
       "      <th>0</th>\n",
       "      <td>RidgeClassifier</td>\n",
       "      <td>1.0</td>\n",
       "      <td>4948.0</td>\n",
       "      <td>0.0</td>\n",
       "      <td>56554.0</td>\n",
       "      <td>0.919549</td>\n",
       "      <td>0.000202</td>\n",
       "      <td>1.000000</td>\n",
       "      <td>0.919547</td>\n",
       "    </tr>\n",
       "    <tr>\n",
       "      <th>1</th>\n",
       "      <td>LogisticRegression</td>\n",
       "      <td>1.0</td>\n",
       "      <td>4948.0</td>\n",
       "      <td>2.0</td>\n",
       "      <td>56552.0</td>\n",
       "      <td>0.919516</td>\n",
       "      <td>0.000202</td>\n",
       "      <td>0.333333</td>\n",
       "      <td>0.919545</td>\n",
       "    </tr>\n",
       "    <tr>\n",
       "      <th>2</th>\n",
       "      <td>RandomForestClassifier</td>\n",
       "      <td>50.0</td>\n",
       "      <td>4899.0</td>\n",
       "      <td>103.0</td>\n",
       "      <td>56451.0</td>\n",
       "      <td>0.918671</td>\n",
       "      <td>0.010103</td>\n",
       "      <td>0.326797</td>\n",
       "      <td>0.920147</td>\n",
       "    </tr>\n",
       "    <tr>\n",
       "      <th>3</th>\n",
       "      <td>LinearDiscriminantAnalysis</td>\n",
       "      <td>118.0</td>\n",
       "      <td>4831.0</td>\n",
       "      <td>137.0</td>\n",
       "      <td>56417.0</td>\n",
       "      <td>0.919223</td>\n",
       "      <td>0.023843</td>\n",
       "      <td>0.462745</td>\n",
       "      <td>0.921124</td>\n",
       "    </tr>\n",
       "    <tr>\n",
       "      <th>4</th>\n",
       "      <td>QuadraticDiscriminantAnalysis</td>\n",
       "      <td>2278.0</td>\n",
       "      <td>2671.0</td>\n",
       "      <td>14573.0</td>\n",
       "      <td>41981.0</td>\n",
       "      <td>0.719623</td>\n",
       "      <td>0.460295</td>\n",
       "      <td>0.135185</td>\n",
       "      <td>0.940182</td>\n",
       "    </tr>\n",
       "  </tbody>\n",
       "</table>\n",
       "</div>"
      ],
      "text/plain": [
       "                           Model  TruePositive  FalsePositive  FalseNegative  \\\n",
       "0                RidgeClassifier           1.0         4948.0            0.0   \n",
       "1             LogisticRegression           1.0         4948.0            2.0   \n",
       "2         RandomForestClassifier          50.0         4899.0          103.0   \n",
       "3     LinearDiscriminantAnalysis         118.0         4831.0          137.0   \n",
       "4  QuadraticDiscriminantAnalysis        2278.0         2671.0        14573.0   \n",
       "\n",
       "   TrueNegative  Accuracy  Precision    Recall  Specifity  \n",
       "0       56554.0  0.919549   0.000202  1.000000   0.919547  \n",
       "1       56552.0  0.919516   0.000202  0.333333   0.919545  \n",
       "2       56451.0  0.918671   0.010103  0.326797   0.920147  \n",
       "3       56417.0  0.919223   0.023843  0.462745   0.921124  \n",
       "4       41981.0  0.719623   0.460295  0.135185   0.940182  "
      ]
     },
     "execution_count": 38,
     "metadata": {},
     "output_type": "execute_result"
    }
   ],
   "source": [
    "result_df"
   ]
  },
  {
   "cell_type": "markdown",
   "metadata": {},
   "source": [
    "## 5.2) Principal Component Analysis with Boostrap Resampling"
   ]
  },
  {
   "cell_type": "code",
   "execution_count": 34,
   "metadata": {
    "scrolled": true
   },
   "outputs": [],
   "source": [
    "from sklearn.utils import resample\n",
    "from sklearn.tree import DecisionTreeClassifier\n",
    "from sklearn.metrics import accuracy_score\n",
    "df7 = application_train_new.copy()\n",
    "df7.drop('TARGET',inplace=True,axis=1)\n",
    "df7['TARGET'] = application_train_new['TARGET']\n",
    "\n",
    "values = df7[df7.TARGET==1].values\n",
    "df8 = df7.copy()\n",
    "# configure bootstrap\n",
    "n_iterations = 10\n",
    "n_size = int(len(df7[df7.TARGET==1]) * 0.001)\n",
    "# run bootstrap\n",
    "for i in range(n_iterations):\n",
    "    # prepare train and test sets\n",
    "    train = resample(values, n_samples=n_size)\n",
    "    test = np.array([a for a in values if a.tolist() not in train.tolist()])\n",
    "    test_df = pd.DataFrame(test, columns = df7.columns)\n",
    "    # fit model\n",
    "    model = DecisionTreeClassifier()\n",
    "    model.fit(train[:,:-1], train[:,-1])\n",
    "    # evaluate model\n",
    "    predictions = model.predict(test[:,:-1])\n",
    "    score = accuracy_score(test[:,-1], predictions)\n",
    "    if(score >0.9):\n",
    "        df8 = pd.concat([df8,test_df])\n",
    "        df8.reset_index(drop=True, inplace = True)"
   ]
  },
  {
   "cell_type": "code",
   "execution_count": 41,
   "metadata": {
    "scrolled": true
   },
   "outputs": [
    {
     "name": "stdout",
     "output_type": "stream",
     "text": [
      "2018-08-14 23:42:49.395226\n",
      "2018-08-14 23:42:57.844451\n",
      "2018-08-14 23:43:22.598609\n",
      "2018-08-14 23:43:27.484209\n",
      "2018-08-14 23:43:39.271199\n"
     ]
    }
   ],
   "source": [
    "from sklearn.discriminant_analysis import LinearDiscriminantAnalysis\n",
    "from sklearn.discriminant_analysis import QuadraticDiscriminantAnalysis\n",
    "from sklearn.linear_model import RidgeClassifier\n",
    "from sklearn.svm import SVC\n",
    "from sklearn.linear_model import ElasticNet, LogisticRegression\n",
    "from sklearn.ensemble import RandomForestClassifier\n",
    "from sklearn.neighbors import KNeighborsClassifier\n",
    "from sklearn.model_selection import train_test_split\n",
    "from sklearn.decomposition import PCA\n",
    "from sklearn.metrics import confusion_matrix\n",
    "from sklearn.preprocessing import StandardScaler\n",
    "import datetime\n",
    "\n",
    "X_train, X_test, y_train, y_test = train_test_split(df8.iloc[:,:-1],df8.iloc[:,-1],test_size=0.2,random_state=42)\n",
    "result_df_boostrap = pd.DataFrame(data=np.ones(shape=(5,9)),columns=['Model','TruePositive','FalsePositive','FalseNegative','TrueNegative','Accuracy'\n",
    "                                                         ,'Precision','Recall','Specifity'])\n",
    "\n",
    "scalar = StandardScaler()\n",
    "X_train_scaled = scalar.fit_transform(X_train)\n",
    "X_test_scaled = scalar.transform(X_test)\n",
    "\n",
    "pca = PCA(n_components = 100)\n",
    "pca_X_train = pd.DataFrame(pca.fit_transform(X_train_scaled))\n",
    "pca_X_train.index = X_train.index\n",
    "\n",
    "pca_X_test = pd.DataFrame(pca.transform(X_test_scaled))\n",
    "pca_X_test.index = X_test.index\n",
    "\n",
    "clf_1 = RidgeClassifier()\n",
    "clf_1.fit(pca_X_train, y_train)\n",
    "tn, fn,fp, tp = confusion_matrix(y_test,clf_1.predict(pca_X_test)).ravel()\n",
    "result_df_boostrap.loc[0,'Model'] = str(clf_1).split('(')[0]\n",
    "result_df_boostrap.loc[0,'TruePositive'] = tp\n",
    "result_df_boostrap.loc[0,'FalsePositive'] = fp\n",
    "result_df_boostrap.loc[0,'FalseNegative'] = fn\n",
    "result_df_boostrap.loc[0,'TrueNegative'] = tn\n",
    "result_df_boostrap.loc[0,'Accuracy'] = (tp+tn)/(tp+tn+fp+fn)\n",
    "result_df_boostrap.loc[0,'Precision'] = tp/(tp+fp)\n",
    "result_df_boostrap.loc[0,'Recall'] = tp / (tp+fn)\n",
    "result_df_boostrap.loc[0,'Specifity'] = tn / (tn+fp)\n",
    "print(datetime.datetime.now())\n",
    "\n",
    "\n",
    "clf_4 = LogisticRegression(C=0.05)\n",
    "clf_4.fit(pca_X_train, y_train)\n",
    "tn, fn,fp, tp = confusion_matrix(y_test,clf_4.predict(pca_X_test)).ravel()\n",
    "result_df_boostrap.loc[1,'Model'] = str(clf_4).split('(')[0]\n",
    "result_df_boostrap.loc[1,'TruePositive'] = tp\n",
    "result_df_boostrap.loc[1,'FalsePositive'] = fp\n",
    "result_df_boostrap.loc[1,'FalseNegative'] = fn\n",
    "result_df_boostrap.loc[1,'TrueNegative'] = tn\n",
    "result_df_boostrap.loc[1,'Accuracy'] = (tp+tn)/(tp+tn+fp+fn)\n",
    "result_df_boostrap.loc[1,'Precision'] = tp/(tp+fp)\n",
    "result_df_boostrap.loc[1,'Recall'] = tp / (tp+fn)\n",
    "result_df_boostrap.loc[1,'Specifity'] = tn / (tn+fp)\n",
    "print(datetime.datetime.now())\n",
    "\n",
    "clf_5 = RandomForestClassifier(n_jobs=-1)\n",
    "clf_5.fit(pca_X_train,y_train)\n",
    "tn, fn,fp, tp = confusion_matrix(y_test,clf_5.predict(pca_X_test)).ravel()\n",
    "result_df_boostrap.loc[2,'Model'] = str(clf_5).split('(')[0]\n",
    "result_df_boostrap.loc[2,'TruePositive'] = tp\n",
    "result_df_boostrap.loc[2,'FalsePositive'] = fp\n",
    "result_df_boostrap.loc[2,'FalseNegative'] = fn\n",
    "result_df_boostrap.loc[2,'TrueNegative'] = tn\n",
    "result_df_boostrap.loc[2,'Accuracy'] = (tp+tn)/(tp+tn+fp+fn)\n",
    "result_df_boostrap.loc[2,'Precision'] = tp/(tp+fp)\n",
    "result_df_boostrap.loc[2,'Recall'] = tp / (tp+fn)\n",
    "result_df_boostrap.loc[2,'Specifity'] = tn / (tn+fp)\n",
    "print(datetime.datetime.now())\n",
    "\n",
    "clf_6 = LinearDiscriminantAnalysis()\n",
    "clf_6.fit(pca_X_train, y_train)\n",
    "tn, fn,fp, tp= confusion_matrix(y_test,clf_6.predict(pca_X_test)).ravel()\n",
    "result_df_boostrap.loc[3,'Model'] = str(clf_6).split('(')[0]\n",
    "result_df_boostrap.loc[3,'TruePositive'] = tp\n",
    "result_df_boostrap.loc[3,'FalsePositive'] = fp\n",
    "result_df_boostrap.loc[3,'FalseNegative'] = fn\n",
    "result_df_boostrap.loc[3,'TrueNegative'] = tn\n",
    "result_df_boostrap.loc[3,'Accuracy'] = (tp+tn)/(tp+tn+fp+fn)\n",
    "result_df_boostrap.loc[3,'Precision'] = tp/(tp+fp)\n",
    "result_df_boostrap.loc[3,'Recall'] = tp / (tp+fn)\n",
    "result_df_boostrap.loc[3,'Specifity'] = tn / (tn+fp)\n",
    "print(datetime.datetime.now())\n",
    "\n",
    "clf_7 = QuadraticDiscriminantAnalysis()\n",
    "clf_7.fit(pca_X_train,y_train)\n",
    "tn, fn,fp, tp = confusion_matrix(y_test,clf_7.predict(pca_X_test)).ravel()\n",
    "result_df_boostrap.loc[4,'Model'] = str(clf_7).split('(')[0]\n",
    "result_df_boostrap.loc[4,'TruePositive'] = tp\n",
    "result_df_boostrap.loc[4,'FalsePositive'] = fp\n",
    "result_df_boostrap.loc[4,'FalseNegative'] = fn\n",
    "result_df_boostrap.loc[4,'TrueNegative'] = tn\n",
    "result_df_boostrap.loc[4,'Accuracy'] = (tp+tn)/(tp+tn+fp+fn)\n",
    "result_df_boostrap.loc[4,'Precision'] = tp/(tp+fp)\n",
    "result_df_boostrap.loc[4,'Recall'] = tp / (tp+fn)\n",
    "result_df_boostrap.loc[4,'Specifity'] = tn / (tn+fp)\n",
    "print(datetime.datetime.now())"
   ]
  },
  {
   "cell_type": "code",
   "execution_count": 42,
   "metadata": {
    "scrolled": false
   },
   "outputs": [
    {
     "data": {
      "text/html": [
       "<div>\n",
       "<style scoped>\n",
       "    .dataframe tbody tr th:only-of-type {\n",
       "        vertical-align: middle;\n",
       "    }\n",
       "\n",
       "    .dataframe tbody tr th {\n",
       "        vertical-align: top;\n",
       "    }\n",
       "\n",
       "    .dataframe thead th {\n",
       "        text-align: right;\n",
       "    }\n",
       "</style>\n",
       "<table border=\"1\" class=\"dataframe\">\n",
       "  <thead>\n",
       "    <tr style=\"text-align: right;\">\n",
       "      <th></th>\n",
       "      <th>Model</th>\n",
       "      <th>TruePositive</th>\n",
       "      <th>FalsePositive</th>\n",
       "      <th>FalseNegative</th>\n",
       "      <th>TrueNegative</th>\n",
       "      <th>Accuracy</th>\n",
       "      <th>Precision</th>\n",
       "      <th>Recall</th>\n",
       "      <th>Specifity</th>\n",
       "    </tr>\n",
       "  </thead>\n",
       "  <tbody>\n",
       "    <tr>\n",
       "      <th>0</th>\n",
       "      <td>RidgeClassifier</td>\n",
       "      <td>35010.0</td>\n",
       "      <td>19323.0</td>\n",
       "      <td>18048.0</td>\n",
       "      <td>38724.0</td>\n",
       "      <td>0.663643</td>\n",
       "      <td>0.644360</td>\n",
       "      <td>0.659844</td>\n",
       "      <td>0.667115</td>\n",
       "    </tr>\n",
       "    <tr>\n",
       "      <th>1</th>\n",
       "      <td>LogisticRegression</td>\n",
       "      <td>35280.0</td>\n",
       "      <td>19053.0</td>\n",
       "      <td>17947.0</td>\n",
       "      <td>38825.0</td>\n",
       "      <td>0.666982</td>\n",
       "      <td>0.649329</td>\n",
       "      <td>0.662822</td>\n",
       "      <td>0.670808</td>\n",
       "    </tr>\n",
       "    <tr>\n",
       "      <th>2</th>\n",
       "      <td>RandomForestClassifier</td>\n",
       "      <td>50042.0</td>\n",
       "      <td>4291.0</td>\n",
       "      <td>386.0</td>\n",
       "      <td>56386.0</td>\n",
       "      <td>0.957905</td>\n",
       "      <td>0.921024</td>\n",
       "      <td>0.992346</td>\n",
       "      <td>0.929281</td>\n",
       "    </tr>\n",
       "    <tr>\n",
       "      <th>3</th>\n",
       "      <td>LinearDiscriminantAnalysis</td>\n",
       "      <td>35011.0</td>\n",
       "      <td>19322.0</td>\n",
       "      <td>18048.0</td>\n",
       "      <td>38724.0</td>\n",
       "      <td>0.663652</td>\n",
       "      <td>0.644378</td>\n",
       "      <td>0.659850</td>\n",
       "      <td>0.667126</td>\n",
       "    </tr>\n",
       "    <tr>\n",
       "      <th>4</th>\n",
       "      <td>QuadraticDiscriminantAnalysis</td>\n",
       "      <td>48819.0</td>\n",
       "      <td>5514.0</td>\n",
       "      <td>47743.0</td>\n",
       "      <td>9029.0</td>\n",
       "      <td>0.520661</td>\n",
       "      <td>0.898515</td>\n",
       "      <td>0.505572</td>\n",
       "      <td>0.620849</td>\n",
       "    </tr>\n",
       "  </tbody>\n",
       "</table>\n",
       "</div>"
      ],
      "text/plain": [
       "                           Model  TruePositive  FalsePositive  FalseNegative  \\\n",
       "0                RidgeClassifier       35010.0        19323.0        18048.0   \n",
       "1             LogisticRegression       35280.0        19053.0        17947.0   \n",
       "2         RandomForestClassifier       50042.0         4291.0          386.0   \n",
       "3     LinearDiscriminantAnalysis       35011.0        19322.0        18048.0   \n",
       "4  QuadraticDiscriminantAnalysis       48819.0         5514.0        47743.0   \n",
       "\n",
       "   TrueNegative  Accuracy  Precision    Recall  Specifity  \n",
       "0       38724.0  0.663643   0.644360  0.659844   0.667115  \n",
       "1       38825.0  0.666982   0.649329  0.662822   0.670808  \n",
       "2       56386.0  0.957905   0.921024  0.992346   0.929281  \n",
       "3       38724.0  0.663652   0.644378  0.659850   0.667126  \n",
       "4        9029.0  0.520661   0.898515  0.505572   0.620849  "
      ]
     },
     "execution_count": 42,
     "metadata": {},
     "output_type": "execute_result"
    }
   ],
   "source": [
    "result_df_boostrap"
   ]
  },
  {
   "cell_type": "markdown",
   "metadata": {},
   "source": [
    "# 6) Conclusion\n",
    "\n",
    "According to these result our best model is Random Forest Classifier by using boostrap resampling and PCA for dimesonality reduction."
   ]
  }
 ],
 "metadata": {
  "kernelspec": {
   "display_name": "Python 3",
   "language": "python",
   "name": "python3"
  },
  "language_info": {
   "codemirror_mode": {
    "name": "ipython",
    "version": 3
   },
   "file_extension": ".py",
   "mimetype": "text/x-python",
   "name": "python",
   "nbconvert_exporter": "python",
   "pygments_lexer": "ipython3",
   "version": "3.5.5"
  }
 },
 "nbformat": 4,
 "nbformat_minor": 2
}
